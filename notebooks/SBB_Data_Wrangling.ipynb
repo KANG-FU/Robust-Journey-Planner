{
 "cells": [
  {
   "cell_type": "code",
   "execution_count": 2,
   "metadata": {},
   "outputs": [
    {
     "data": {
      "text/html": [
       "Current session configs: <tt>{'name': 'zhou-skr-final-assignment', 'executorMemory': '64G', 'executorCores': 2, 'numExecutors': 2, 'conf': {'spark.jars.repositories': 'https://repos.spark-packages.org'}, 'kind': 'pyspark'}</tt><br>"
      ],
      "text/plain": [
       "<IPython.core.display.HTML object>"
      ]
     },
     "metadata": {},
     "output_type": "display_data"
    },
    {
     "data": {
      "text/html": [
       "<table>\n",
       "<tr><th>ID</th><th>YARN Application ID</th><th>Kind</th><th>State</th><th>Spark UI</th><th>Driver log</th><th>User</th><th>Current session?</th></tr><tr><td>7188</td><td>application_1618324153128_6903</td><td>pyspark</td><td>idle</td><td><a target=\"_blank\" href=\"http://iccluster040.iccluster.epfl.ch:8088/proxy/application_1618324153128_6903/\">Link</a></td><td><a target=\"_blank\" href=\"http://iccluster069.iccluster.epfl.ch:8042/node/containerlogs/container_e01_1618324153128_6903_01_000001/ebouille\">Link</a></td><td>None</td><td></td></tr><tr><td>7192</td><td>application_1618324153128_6907</td><td>pyspark</td><td>idle</td><td><a target=\"_blank\" href=\"http://iccluster040.iccluster.epfl.ch:8088/proxy/application_1618324153128_6907/\">Link</a></td><td><a target=\"_blank\" href=\"http://iccluster068.iccluster.epfl.ch:8042/node/containerlogs/container_e01_1618324153128_6907_01_000001/ebouille\">Link</a></td><td>None</td><td></td></tr><tr><td>7196</td><td>application_1618324153128_6922</td><td>pyspark</td><td>busy</td><td><a target=\"_blank\" href=\"http://iccluster040.iccluster.epfl.ch:8088/proxy/application_1618324153128_6922/\">Link</a></td><td><a target=\"_blank\" href=\"http://iccluster072.iccluster.epfl.ch:8042/node/containerlogs/container_e01_1618324153128_6922_01_000001/ebouille\">Link</a></td><td>None</td><td></td></tr><tr><td>7197</td><td>application_1618324153128_6924</td><td>pyspark</td><td>idle</td><td><a target=\"_blank\" href=\"http://iccluster040.iccluster.epfl.ch:8088/proxy/application_1618324153128_6924/\">Link</a></td><td><a target=\"_blank\" href=\"http://iccluster067.iccluster.epfl.ch:8042/node/containerlogs/container_e01_1618324153128_6924_01_000001/ebouille\">Link</a></td><td>None</td><td></td></tr><tr><td>7198</td><td>application_1618324153128_6927</td><td>pyspark</td><td>idle</td><td><a target=\"_blank\" href=\"http://iccluster040.iccluster.epfl.ch:8088/proxy/application_1618324153128_6927/\">Link</a></td><td><a target=\"_blank\" href=\"http://iccluster069.iccluster.epfl.ch:8042/node/containerlogs/container_e01_1618324153128_6927_01_000001/ebouille\">Link</a></td><td>None</td><td></td></tr><tr><td>7199</td><td>application_1618324153128_6928</td><td>pyspark</td><td>idle</td><td><a target=\"_blank\" href=\"http://iccluster040.iccluster.epfl.ch:8088/proxy/application_1618324153128_6928/\">Link</a></td><td><a target=\"_blank\" href=\"http://iccluster078.iccluster.epfl.ch:8042/node/containerlogs/container_e01_1618324153128_6928_01_000001/ebouille\">Link</a></td><td>None</td><td></td></tr><tr><td>7200</td><td>application_1618324153128_6929</td><td>pyspark</td><td>idle</td><td><a target=\"_blank\" href=\"http://iccluster040.iccluster.epfl.ch:8088/proxy/application_1618324153128_6929/\">Link</a></td><td><a target=\"_blank\" href=\"http://iccluster067.iccluster.epfl.ch:8042/node/containerlogs/container_e01_1618324153128_6929_01_000001/ebouille\">Link</a></td><td>None</td><td></td></tr></table>"
      ],
      "text/plain": [
       "<IPython.core.display.HTML object>"
      ]
     },
     "metadata": {},
     "output_type": "display_data"
    }
   ],
   "source": [
    "%%local\n",
    "import os\n",
    "import json\n",
    "username = os.environ['JUPYTERHUB_USER']\n",
    "namespace = os.environ['CI_NAMESPACE']\n",
    "project = os.environ['CI_PROJECT']\n",
    "\n",
    "configuration = dict(\n",
    "    name = f\"{username}-{namespace}-{project}\",\n",
    "    executorMemory = \"64G\",\n",
    "    executorCores = 2,\n",
    "    numExecutors = 2,\n",
    "    conf = {\n",
    "        # \"spark.pyspark.python\": \"/opt/anaconda3/bin/python3\", # Use python3\n",
    "        \"spark.jars.repositories\": \"https://repos.spark-packages.org\"\n",
    "    }\n",
    "                \n",
    ")\n",
    "\n",
    "from IPython import get_ipython\n",
    "ipython = get_ipython()\n",
    "ipython.run_cell_magic('configure', line=\"-f\",  cell=json.dumps(configuration))"
   ]
  },
  {
   "cell_type": "code",
   "execution_count": 3,
   "metadata": {},
   "outputs": [
    {
     "name": "stdout",
     "output_type": "stream",
     "text": [
      "Starting Spark application\n"
     ]
    },
    {
     "data": {
      "text/html": [
       "<table>\n",
       "<tr><th>ID</th><th>YARN Application ID</th><th>Kind</th><th>State</th><th>Spark UI</th><th>Driver log</th><th>User</th><th>Current session?</th></tr><tr><td>7201</td><td>application_1618324153128_6930</td><td>pyspark</td><td>idle</td><td><a target=\"_blank\" href=\"http://iccluster040.iccluster.epfl.ch:8088/proxy/application_1618324153128_6930/\">Link</a></td><td><a target=\"_blank\" href=\"http://iccluster069.iccluster.epfl.ch:8042/node/containerlogs/container_e01_1618324153128_6930_01_000001/ebouille\">Link</a></td><td>None</td><td>✔</td></tr></table>"
      ],
      "text/plain": [
       "<IPython.core.display.HTML object>"
      ]
     },
     "metadata": {},
     "output_type": "display_data"
    },
    {
     "data": {
      "application/vnd.jupyter.widget-view+json": {
       "model_id": "",
       "version_major": 2,
       "version_minor": 0
      },
      "text/plain": [
       "FloatProgress(value=0.0, bar_style='info', description='Progress:', layout=Layout(height='25px', width='50%'),…"
      ]
     },
     "metadata": {},
     "output_type": "display_data"
    },
    {
     "name": "stdout",
     "output_type": "stream",
     "text": [
      "SparkSession available as 'spark'.\n"
     ]
    },
    {
     "data": {
      "application/vnd.jupyter.widget-view+json": {
       "model_id": "",
       "version_major": 2,
       "version_minor": 0
      },
      "text/plain": [
       "FloatProgress(value=0.0, bar_style='info', description='Progress:', layout=Layout(height='25px', width='50%'),…"
      ]
     },
     "metadata": {},
     "output_type": "display_data"
    },
    {
     "name": "stdout",
     "output_type": "stream",
     "text": [
      "<pyspark.sql.session.SparkSession object at 0x7fc37a3ff750>"
     ]
    }
   ],
   "source": [
    "spark"
   ]
  },
  {
   "cell_type": "markdown",
   "metadata": {},
   "source": [
    "### Load Actual Data from SBB:"
   ]
  },
  {
   "cell_type": "code",
   "execution_count": 4,
   "metadata": {},
   "outputs": [
    {
     "data": {
      "application/vnd.jupyter.widget-view+json": {
       "model_id": "",
       "version_major": 2,
       "version_minor": 0
      },
      "text/plain": [
       "FloatProgress(value=0.0, bar_style='info', description='Progress:', layout=Layout(height='25px', width='50%'),…"
      ]
     },
     "metadata": {},
     "output_type": "display_data"
    }
   ],
   "source": [
    "import pyspark.sql.functions as F"
   ]
  },
  {
   "cell_type": "code",
   "execution_count": 5,
   "metadata": {},
   "outputs": [
    {
     "data": {
      "application/vnd.jupyter.widget-view+json": {
       "model_id": "",
       "version_major": 2,
       "version_minor": 0
      },
      "text/plain": [
       "FloatProgress(value=0.0, bar_style='info', description='Progress:', layout=Layout(height='25px', width='50%'),…"
      ]
     },
     "metadata": {},
     "output_type": "display_data"
    }
   ],
   "source": [
    "#read the data from sbb\n",
    "actual = spark.read.orc(\"/data/sbb/orc/istdaten\")"
   ]
  },
  {
   "cell_type": "code",
   "execution_count": 6,
   "metadata": {},
   "outputs": [
    {
     "data": {
      "application/vnd.jupyter.widget-view+json": {
       "model_id": "",
       "version_major": 2,
       "version_minor": 0
      },
      "text/plain": [
       "FloatProgress(value=0.0, bar_style='info', description='Progress:', layout=Layout(height='25px', width='50%'),…"
      ]
     },
     "metadata": {},
     "output_type": "display_data"
    }
   ],
   "source": [
    "###################### Calculate the delay information\n",
    "#Rename German column names to english\n",
    "actual = actual.selectExpr(\"BETRIEBSTAG as date\",\n",
    "                           \"FAHRT_BEZEICHNER as trip_id\",\n",
    "                           \"BETREIBER_ID as operator_id\",\n",
    "                           \"BETREIBER_ABK as operator_abk\",\n",
    "                           \"BETREIBER_NAME as operator_name\",\n",
    "                           \"PRODUKT_ID as transport_type\",\n",
    "                           \"LINIEN_ID as train_number\",\n",
    "                           \"LINIEN_TEXT as train_type1\",\n",
    "                           #\"UMLAUF_ID as\",\n",
    "                           \"VERKEHRSMITTEL_TEXT as train_type2\",\n",
    "                           \"ZUSATZFAHRT_TF as additional_trip\",\n",
    "                           \"FAELLT_AUS_TF as failed_trip\",\n",
    "                           \"BPUIC as stop_id\",\n",
    "                           \"HALTESTELLEN_NAME as stop_name\",\n",
    "                           \"ANKUNFTSZEIT as schedule_arr_time\",\n",
    "                           \"AN_PROGNOSE as actual_arr_time\",\n",
    "                           \"AN_PROGNOSE_STATUS as arr_status\",\n",
    "                           \"ABFAHRTSZEIT as schedule_dept_time\",\n",
    "                           \"AB_PROGNOSE as actual_dept_time\",\n",
    "                           \"AB_PROGNOSE_STATUS as dept_status\",\n",
    "                           \"DURCHFAHRT_TF as does_not_stop\"\n",
    "                          )\n",
    "\n",
    "#change the format of time\n",
    "actual = actual.withColumn('schedule_arr_time', F.unix_timestamp('schedule_arr_time', 'dd.MM.yyy HH:mm'))\n",
    "actual = actual.withColumn('actual_arr_time', F.unix_timestamp('actual_arr_time', 'dd.MM.yyy HH:mm'))\n",
    "actual = actual.withColumn('schedule_dept_time', F.unix_timestamp('schedule_dept_time', 'dd.MM.yyy HH:mm'))\n",
    "actual = actual.withColumn('actual_dept_time', F.unix_timestamp('actual_dept_time', 'dd.MM.yyy HH:mm'))\n",
    "#compute the arrival and depature delay between the actual and schedule timestamp\n",
    "actual = actual.withColumn(\"arr_delay\", F.col('actual_arr_time')-F.col('schedule_arr_time'))\n",
    "actual = actual.withColumn(\"dept_delay\", F.col('actual_dept_time')-F.col('schedule_dept_time'))\n",
    "#convert the format of time back\n",
    "actual = actual.withColumn('schedule_arr_time', F.from_unixtime('schedule_arr_time', 'dd.MM.yyy HH:mm'))\n",
    "actual = actual.withColumn('actual_arr_time', F.from_unixtime('actual_arr_time', 'dd.MM.yyy HH:mm'))\n",
    "actual = actual.withColumn('schedule_dept_time', F.from_unixtime('schedule_dept_time', 'dd.MM.yyy HH:mm'))\n",
    "actual = actual.withColumn('actual_dept_time', F.from_unixtime('actual_dept_time', 'dd.MM.yyy HH:mm'))"
   ]
  },
  {
   "cell_type": "code",
   "execution_count": 7,
   "metadata": {},
   "outputs": [
    {
     "data": {
      "application/vnd.jupyter.widget-view+json": {
       "model_id": "",
       "version_major": 2,
       "version_minor": 0
      },
      "text/plain": [
       "FloatProgress(value=0.0, bar_style='info', description='Progress:', layout=Layout(height='25px', width='50%'),…"
      ]
     },
     "metadata": {},
     "output_type": "display_data"
    }
   ],
   "source": [
    "#read the file stop_nodes\n",
    "stops = spark.read.parquet('/user/{0}/stops_node.parquet/*.parquet'.format('zhou'))\n",
    "#filter the data in actual data and only keep stops within 15km from Zurich\n",
    "actual_filter = actual.join(stops,['stop_id','stop_name'],'inner')"
   ]
  },
  {
   "cell_type": "code",
   "execution_count": 8,
   "metadata": {},
   "outputs": [
    {
     "data": {
      "application/vnd.jupyter.widget-view+json": {
       "model_id": "",
       "version_major": 2,
       "version_minor": 0
      },
      "text/plain": [
       "FloatProgress(value=0.0, bar_style='info', description='Progress:', layout=Layout(height='25px', width='50%'),…"
      ]
     },
     "metadata": {},
     "output_type": "display_data"
    },
    {
     "name": "stdout",
     "output_type": "stream",
     "text": [
      "1459"
     ]
    }
   ],
   "source": [
    "actual_filter.select('stop_id').distinct().count()"
   ]
  },
  {
   "cell_type": "code",
   "execution_count": 9,
   "metadata": {},
   "outputs": [
    {
     "data": {
      "application/vnd.jupyter.widget-view+json": {
       "model_id": "",
       "version_major": 2,
       "version_minor": 0
      },
      "text/plain": [
       "FloatProgress(value=0.0, bar_style='info', description='Progress:', layout=Layout(height='25px', width='50%'),…"
      ]
     },
     "metadata": {},
     "output_type": "display_data"
    }
   ],
   "source": [
    "#save the data for processed actual data\n",
    "#actual_filter.write.parquet('/user/{0}/filtered_actual_data.parquet'.format(\"zhou\"))\n",
    "actual_filter = spark.read.parquet('/user/{0}/filtered_actual_data.parquet/*.parquet'.format('zhou'))"
   ]
  },
  {
   "cell_type": "code",
   "execution_count": 10,
   "metadata": {},
   "outputs": [
    {
     "data": {
      "application/vnd.jupyter.widget-view+json": {
       "model_id": "",
       "version_major": 2,
       "version_minor": 0
      },
      "text/plain": [
       "FloatProgress(value=0.0, bar_style='info', description='Progress:', layout=Layout(height='25px', width='50%'),…"
      ]
     },
     "metadata": {},
     "output_type": "display_data"
    },
    {
     "name": "stdout",
     "output_type": "stream",
     "text": [
      "+-------+--------------------+----------+--------------------+-----------+------------+--------------------+--------------+------------+-----------+-----------+---------------+-----------+-----------------+----------------+----------+------------------+----------------+-----------+-------------+---------+----------+---------+--------+-------------+--------------+-----------------+---------+--------+---------+\n",
      "|stop_id|           stop_name|      date|             trip_id|operator_id|operator_abk|       operator_name|transport_type|train_number|train_type1|train_type2|additional_trip|failed_trip|schedule_arr_time| actual_arr_time|arr_status|schedule_dept_time|actual_dept_time|dept_status|does_not_stop|arr_delay|dept_delay| stop_lat|stop_lon|location_type|parent_station|dist_to_zurich_km|dayofWeek|arr_hour|dept_hour|\n",
      "+-------+--------------------+----------+--------------------+-----------+------------+--------------------+--------------+------------+-----------+-----------+---------------+-----------+-----------------+----------------+----------+------------------+----------------+-----------+-------------+---------+----------+---------+--------+-------------+--------------+-----------------+---------+--------+---------+\n",
      "|8591404|Zürich, Tunnelstr...|02.01.2019|85:3849:48793-290...|    85:3849|     VBZ Fpl|Verkehrsbetriebe ...|          Tram| 85:3849:006|          6|        Trm|          false|      false| 02.01.2019 13:00|02.01.2019 13:00|  PROGNOSE|  02.01.2019 13:00|02.01.2019 13:00|   PROGNOSE|        false|        0|         0|47.366142|8.532531|         null|              |         1.458923|        4|      13|       13|\n",
      "|8591384|Zürich, Stockerst...|02.01.2019|85:3849:48793-290...|    85:3849|     VBZ Fpl|Verkehrsbetriebe ...|          Tram| 85:3849:006|          6|        Trm|          false|      false| 02.01.2019 13:01|02.01.2019 13:01|  PROGNOSE|  02.01.2019 13:01|02.01.2019 13:02|   PROGNOSE|        false|        0|        60|  47.3677| 8.53501|         null|              |        1.2301487|        4|      13|       13|\n",
      "|8591299| Zürich, Paradeplatz|02.01.2019|85:3849:48793-290...|    85:3849|     VBZ Fpl|Verkehrsbetriebe ...|          Tram| 85:3849:006|          6|        Trm|          false|      false| 02.01.2019 13:02|02.01.2019 13:03|  PROGNOSE|  02.01.2019 13:03|02.01.2019 13:03|   PROGNOSE|        false|       60|         0|47.369366|8.538765|         null|              |        0.9867994|        4|      13|       13|\n",
      "|8591316|     Zürich, Rennweg|02.01.2019|85:3849:48793-290...|    85:3849|     VBZ Fpl|Verkehrsbetriebe ...|          Tram| 85:3849:006|          6|        Trm|          false|      false| 02.01.2019 13:04|02.01.2019 13:05|  PROGNOSE|  02.01.2019 13:04|02.01.2019 13:05|   PROGNOSE|        false|       60|        60|47.373066| 8.53846|         null|              |        0.5838037|        4|      13|       13|\n",
      "|8591067|Zürich, Bahnhofst...|02.01.2019|85:3849:48793-290...|    85:3849|     VBZ Fpl|Verkehrsbetriebe ...|          Tram| 85:3849:006|          6|        Trm|          false|      false| 02.01.2019 13:06|02.01.2019 13:06|  PROGNOSE|  02.01.2019 13:06|02.01.2019 13:06|   PROGNOSE|        false|        0|         0|47.376225|8.539466|         null|              |       0.22419338|        4|      13|       13|\n",
      "+-------+--------------------+----------+--------------------+-----------+------------+--------------------+--------------+------------+-----------+-----------+---------------+-----------+-----------------+----------------+----------+------------------+----------------+-----------+-------------+---------+----------+---------+--------+-------------+--------------+-----------------+---------+--------+---------+\n",
      "only showing top 5 rows"
     ]
    }
   ],
   "source": [
    "####Filter out data for weekend\n",
    "### add a column of dayofweek\n",
    "actual_filter = actual_filter.withColumn(\"dayofWeek\", F.dayofweek(F.from_unixtime(F.unix_timestamp('date', 'dd.MM.yyy'))))\n",
    "### filter out dayofWeek = 1 & 7(sunday and saturday)\n",
    "actual_weekday = actual_filter.filter(\"dayofWeek >= 2 AND dayofWeek <= 6\" )\n",
    "## filter trips on the working hours of day (9am to 5pm)\n",
    "actual_weekday_limited = actual_weekday.withColumn('arr_hour', F.hour(F.from_unixtime(F.unix_timestamp('actual_arr_time', 'dd.MM.yyy HH:mm'))))\n",
    "actual_weekday_limited = actual_weekday_limited.withColumn('dept_hour', F.hour(F.from_unixtime(F.unix_timestamp('actual_dept_time', 'dd.MM.yyy HH:mm'))))\n",
    "actual_weekday_limited = actual_weekday_limited.filter(\"arr_hour >= 9 AND arr_hour <= 17 AND dept_hour >= 9 AND dept_hour <= 17\" )\n",
    "actual_weekday_limited.show(5)"
   ]
  },
  {
   "cell_type": "code",
   "execution_count": 11,
   "metadata": {},
   "outputs": [
    {
     "data": {
      "application/vnd.jupyter.widget-view+json": {
       "model_id": "",
       "version_major": 2,
       "version_minor": 0
      },
      "text/plain": [
       "FloatProgress(value=0.0, bar_style='info', description='Progress:', layout=Layout(height='25px', width='50%'),…"
      ]
     },
     "metadata": {},
     "output_type": "display_data"
    }
   ],
   "source": [
    "#filter out the data which have null values at schedule arr_time and actual arr_time\n",
    "actual_weekday_limited = actual_weekday_limited.where((actual_weekday_limited.schedule_arr_time != ''))\n",
    "actual_weekday_limited = actual_weekday_limited.where((actual_weekday_limited.actual_arr_time != ''))\n",
    "#filter data where does_not_stop = True\n",
    "actual_weekday_limited = actual_weekday_limited.filter(\"does_not_stop == 'false'\")\n",
    "actual_weekday_limited = actual_weekday_limited.filter(\"additional_trip == 'false'\")"
   ]
  },
  {
   "cell_type": "code",
   "execution_count": 13,
   "metadata": {},
   "outputs": [
    {
     "data": {
      "application/vnd.jupyter.widget-view+json": {
       "model_id": "",
       "version_major": 2,
       "version_minor": 0
      },
      "text/plain": [
       "FloatProgress(value=0.0, bar_style='info', description='Progress:', layout=Layout(height='25px', width='50%'),…"
      ]
     },
     "metadata": {},
     "output_type": "display_data"
    }
   ],
   "source": [
    "#save the data for processed actual data\n",
    "#actual_weekday_limited.write.mode(\"overwrite\").parquet('/user/{0}/weekday_data.parquet'.format(\"zhou\"))\n",
    "#read data from parquet\n",
    "df = spark.read.parquet('/user/{0}/weekday_data.parquet/*.parquet'.format('zhou'))"
   ]
  },
  {
   "cell_type": "markdown",
   "metadata": {},
   "source": [
    "#### Consider that the delay might vary based on morning, noon and afternoon of hour, so we need to group data based on hour"
   ]
  },
  {
   "cell_type": "code",
   "execution_count": 14,
   "metadata": {},
   "outputs": [
    {
     "data": {
      "application/vnd.jupyter.widget-view+json": {
       "model_id": "",
       "version_major": 2,
       "version_minor": 0
      },
      "text/plain": [
       "FloatProgress(value=0.0, bar_style='info', description='Progress:', layout=Layout(height='25px', width='50%'),…"
      ]
     },
     "metadata": {},
     "output_type": "display_data"
    },
    {
     "name": "stdout",
     "output_type": "stream",
     "text": [
      "+-------+----------------+----------+--------------+-----------+------------+--------------------+--------------+------------+-----------+-----------+---------------+-----------+-----------------+----------------+----------+------------------+----------------+-----------+-------------+---------+----------+---------+--------+-------------+--------------+-----------------+---------+--------+---------+--------+----------------+-----------------+\n",
      "|stop_id|       stop_name|      date|       trip_id|operator_id|operator_abk|       operator_name|transport_type|train_number|train_type1|train_type2|additional_trip|failed_trip|schedule_arr_time| actual_arr_time|arr_status|schedule_dept_time|actual_dept_time|dept_status|does_not_stop|arr_delay|dept_delay| stop_lat|stop_lon|location_type|parent_station|dist_to_zurich_km|dayofWeek|arr_hour|dept_hour|day_time|minute_arr_delay|minute_dept_delay|\n",
      "+-------+----------------+----------+--------------+-----------+------------+--------------------+--------------+------------+-----------+-----------+---------------+-----------+-----------------+----------------+----------+------------------+----------------+-----------+-------------+---------+----------+---------+--------+-------------+--------------+-----------------+---------+--------+---------+--------+----------------+-----------------+\n",
      "|8503000|       Zürich HB|14.08.2020|85:11:1513:001|      85:11|         SBB|Schweizerische Bu...|           Zug|        1513|        IC5|         IC|          false|      false| 14.08.2020 09:30|14.08.2020 09:29|      REAL|  14.08.2020 09:39|14.08.2020 09:39|       REAL|        false|      -60|         0|47.378178|8.540194|         null|      8503000P|     1.4377417E-4|        6|       9|        9| morning|            -1.0|              0.0|\n",
      "|8503006| Zürich Oerlikon|14.08.2020|85:11:1513:001|      85:11|         SBB|Schweizerische Bu...|           Zug|        1513|        IC5|         IC|          false|      false| 14.08.2020 09:45|14.08.2020 09:44|      REAL|  14.08.2020 09:46|14.08.2020 09:48|       REAL|        false|      -60|       120| 47.41153| 8.54411|         null|      8503006P|        3.7243612|        6|       9|        9| morning|            -1.0|              2.0|\n",
      "|8503016|Zürich Flughafen|14.08.2020|85:11:1513:001|      85:11|         SBB|Schweizerische Bu...|           Zug|        1513|        IC5|         IC|          false|      false| 14.08.2020 09:51|14.08.2020 09:52|      REAL|  14.08.2020 09:53|14.08.2020 09:54|       REAL|        false|       60|        60|47.450382|8.562382|         null|      8503016P|         8.209573|        6|       9|        9| morning|             1.0|              1.0|\n",
      "|8503016|Zürich Flughafen|14.08.2020|85:11:1514:001|      85:11|         SBB|Schweizerische Bu...|           Zug|        1514|        IC5|         IC|          false|      false| 14.08.2020 09:06|14.08.2020 09:06|      REAL|  14.08.2020 09:08|14.08.2020 09:09|       REAL|        false|        0|        60|47.450382|8.562382|         null|      8503016P|         8.209573|        6|       9|        9| morning|             0.0|              1.0|\n",
      "|8503006| Zürich Oerlikon|14.08.2020|85:11:1514:001|      85:11|         SBB|Schweizerische Bu...|           Zug|        1514|        IC5|         IC|          false|      false| 14.08.2020 09:13|14.08.2020 09:13|      REAL|  14.08.2020 09:14|14.08.2020 09:15|       REAL|        false|        0|        60| 47.41153| 8.54411|         null|      8503006P|        3.7243612|        6|       9|        9| morning|             0.0|              1.0|\n",
      "+-------+----------------+----------+--------------+-----------+------------+--------------------+--------------+------------+-----------+-----------+---------------+-----------+-----------------+----------------+----------+------------------+----------------+-----------+-------------+---------+----------+---------+--------+-------------+--------------+-----------------+---------+--------+---------+--------+----------------+-----------------+\n",
      "only showing top 5 rows"
     ]
    }
   ],
   "source": [
    "#add a column day_time in the dataframe\n",
    "df = df.withColumn('day_time', F.when(df.arr_hour <= 11 , 'morning').when(df.arr_hour >= 14, 'afternoon').otherwise('noon'))\n",
    "df = df.withColumn('minute_arr_delay', F.col('arr_delay')/60)\n",
    "df = df.withColumn('minute_dept_delay', F.col('dept_delay')/60)\n",
    "#set minute_arr_delay which are minus to 0\n",
    "#df = df.withColumn('minute_arr_delay', F.when(df.minute_arr_delay >= 0, df.minute_arr_delay).otherwise(0))\n",
    "df.show(5)"
   ]
  },
  {
   "cell_type": "code",
   "execution_count": 15,
   "metadata": {},
   "outputs": [
    {
     "data": {
      "application/vnd.jupyter.widget-view+json": {
       "model_id": "",
       "version_major": 2,
       "version_minor": 0
      },
      "text/plain": [
       "FloatProgress(value=0.0, bar_style='info', description='Progress:', layout=Layout(height='25px', width='50%'),…"
      ]
     },
     "metadata": {},
     "output_type": "display_data"
    }
   ],
   "source": [
    "group_stop_id = df.groupby(['stop_id','stop_name','transport_type','day_time']).agg(F.mean('minute_arr_delay').alias('mean_arr_delay'),F.stddev('minute_arr_delay').alias('std_arr_delay'),F.count('minute_arr_delay').alias('data_nb'))"
   ]
  },
  {
   "cell_type": "code",
   "execution_count": 16,
   "metadata": {},
   "outputs": [
    {
     "data": {
      "application/vnd.jupyter.widget-view+json": {
       "model_id": "",
       "version_major": 2,
       "version_minor": 0
      },
      "text/plain": [
       "FloatProgress(value=0.0, bar_style='info', description='Progress:', layout=Layout(height='25px', width='50%'),…"
      ]
     },
     "metadata": {},
     "output_type": "display_data"
    },
    {
     "name": "stdout",
     "output_type": "stream",
     "text": [
      "+-------+--------------------+--------------+---------+-------------------+------------------+-------+\n",
      "|stop_id|           stop_name|transport_type| day_time|     mean_arr_delay|     std_arr_delay|data_nb|\n",
      "+-------+--------------------+--------------+---------+-------------------+------------------+-------+\n",
      "|8591424|Zürich, Waserstrasse|           Bus|  morning|  1.346885672467068|2.3935700983986057|  36894|\n",
      "|8576263|Zürich, Hungerber...|           Bus|afternoon|  1.427608904896451|2.8078954916353696|  64414|\n",
      "|8591040|Zürich, Altenhofs...|           Bus|     noon| 0.9122556556116846|1.2659045194959875|   9106|\n",
      "|8591438|Zürich, Witikon Z...|           Bus|afternoon| 3.6037155840684307|27.204862317478756|   7482|\n",
      "|8590677|Kilchberg ZH, Hor...|           Bus|afternoon| 0.7299471132657558|1.3805475585085765|  18152|\n",
      "|8503304|           Kemptthal|           Zug|     noon| 0.6043938161106591|0.9464229331124264|   6145|\n",
      "|8502277|       Rudolfstetten|           Zug|  morning|-0.0870449920868189|0.9277180758335307|  17692|\n",
      "|8591079|Zürich, Bezirksge...|          Tram|  morning|0.35187865293626497|1.6165587005546929|  71860|\n",
      "|8575942|Winterberg ZH, Wä...|           Bus|     noon| 1.3248418833450457| 8.528538171234253|   5692|\n",
      "|8590693|Kloten, Breitistr...|           Bus|  morning| 0.4635662484171751|0.8323846657790428|   8687|\n",
      "+-------+--------------------+--------------+---------+-------------------+------------------+-------+\n",
      "only showing top 10 rows"
     ]
    }
   ],
   "source": [
    "group_stop_id.show(10)"
   ]
  },
  {
   "cell_type": "code",
   "execution_count": 17,
   "metadata": {},
   "outputs": [
    {
     "data": {
      "application/vnd.jupyter.widget-view+json": {
       "model_id": "",
       "version_major": 2,
       "version_minor": 0
      },
      "text/plain": [
       "FloatProgress(value=0.0, bar_style='info', description='Progress:', layout=Layout(height='25px', width='50%'),…"
      ]
     },
     "metadata": {},
     "output_type": "display_data"
    }
   ],
   "source": [
    "group_trip_id = df.groupby(['trip_id','transport_type','day_time']).agg(F.mean('minute_arr_delay').alias('mean_arr_delay'),F.stddev('minute_arr_delay').alias('std_arr_delay'),F.count('minute_arr_delay').alias('data_nb'))"
   ]
  },
  {
   "cell_type": "code",
   "execution_count": 18,
   "metadata": {},
   "outputs": [
    {
     "data": {
      "application/vnd.jupyter.widget-view+json": {
       "model_id": "",
       "version_major": 2,
       "version_minor": 0
      },
      "text/plain": [
       "FloatProgress(value=0.0, bar_style='info', description='Progress:', layout=Layout(height='25px', width='50%'),…"
      ]
     },
     "metadata": {},
     "output_type": "display_data"
    },
    {
     "name": "stdout",
     "output_type": "stream",
     "text": [
      "+--------------------+--------------+---------+--------------------+------------------+-------+\n",
      "|             trip_id|transport_type| day_time|      mean_arr_delay|     std_arr_delay|data_nb|\n",
      "+--------------------+--------------+---------+--------------------+------------------+-------+\n",
      "|       85:31:632:000|           Zug|  morning| 0.25734710087370927|1.0345364920883169|   7554|\n",
      "|85:3849:57342-310...|          Tram|     noon| 0.24782187802516942|0.7047441665844718|   1033|\n",
      "|85:3849:58260-470...|          Tram|afternoon|  0.1638888888888889|0.7525824722859792|    360|\n",
      "|85:3849:58578-630...|          Tram|     noon|-0.01222826086956...|0.9395975007801722|    736|\n",
      "|85:3849:58754-630...|          Tram|  morning|0.028532608695652172|0.7897307000028952|    736|\n",
      "|85:3849:59283-480...|          Tram|afternoon|  0.2807971014492754|0.7895373559461352|    552|\n",
      "|85:3849:60017-540...|          Tram|afternoon|  1.5615384615384615|1.9726967578696029|    130|\n",
      "|85:3849:60399-230...|          Tram|afternoon|  0.6345454545454545|0.9234027710814119|   1100|\n",
      "|85:3849:60808-260...|          Tram|afternoon|    0.99302649930265|1.5013207177059595|   1434|\n",
      "|85:3849:60946-260...|          Tram|  morning| 0.11422845691382766|0.9704655408667804|    998|\n",
      "+--------------------+--------------+---------+--------------------+------------------+-------+\n",
      "only showing top 10 rows"
     ]
    }
   ],
   "source": [
    "group_trip_id.show(10)"
   ]
  },
  {
   "cell_type": "code",
   "execution_count": 19,
   "metadata": {},
   "outputs": [
    {
     "data": {
      "application/vnd.jupyter.widget-view+json": {
       "model_id": "",
       "version_major": 2,
       "version_minor": 0
      },
      "text/plain": [
       "FloatProgress(value=0.0, bar_style='info', description='Progress:', layout=Layout(height='25px', width='50%'),…"
      ]
     },
     "metadata": {},
     "output_type": "display_data"
    }
   ],
   "source": [
    "group_transport_id = df.groupby(['transport_type','day_time']).agg(F.mean('minute_arr_delay').alias('mean_arr_delay'),F.stddev('minute_arr_delay').alias('std_arr_delay'),F.count('minute_arr_delay').alias('data_nb'))"
   ]
  },
  {
   "cell_type": "code",
   "execution_count": 20,
   "metadata": {},
   "outputs": [
    {
     "data": {
      "application/vnd.jupyter.widget-view+json": {
       "model_id": "",
       "version_major": 2,
       "version_minor": 0
      },
      "text/plain": [
       "FloatProgress(value=0.0, bar_style='info', description='Progress:', layout=Layout(height='25px', width='50%'),…"
      ]
     },
     "metadata": {},
     "output_type": "display_data"
    }
   ],
   "source": [
    "group_transport_id = group_transport_id.where((group_transport_id.transport_type != ''))"
   ]
  },
  {
   "cell_type": "code",
   "execution_count": 21,
   "metadata": {},
   "outputs": [
    {
     "data": {
      "application/vnd.jupyter.widget-view+json": {
       "model_id": "",
       "version_major": 2,
       "version_minor": 0
      },
      "text/plain": [
       "FloatProgress(value=0.0, bar_style='info', description='Progress:', layout=Layout(height='25px', width='50%'),…"
      ]
     },
     "metadata": {},
     "output_type": "display_data"
    },
    {
     "name": "stdout",
     "output_type": "stream",
     "text": [
      "+--------------+---------+-------------------+------------------+--------+\n",
      "|transport_type| day_time|     mean_arr_delay|     std_arr_delay| data_nb|\n",
      "+--------------+---------+-------------------+------------------+--------+\n",
      "|           Bus|afternoon| 1.1462871854944685| 4.605782042108002|30737019|\n",
      "|           Bus|     noon| 0.9182333681342736| 3.573711127040804|13780279|\n",
      "|           Zug|     noon| 0.2842532960848372|1.1461260597005187| 1056329|\n",
      "|           Bus|  morning|  0.897890218436548|3.6198311308265163|20460175|\n",
      "|          Tram|afternoon| 0.5156668103307795| 2.633061853134485|14236912|\n",
      "|           Zug|afternoon| 0.5429038774016444|1.3673454147850397| 2217387|\n",
      "|           Zug|  morning|0.37131289799330364|1.2884397112035477| 1586239|\n",
      "|          Tram|     noon|  0.437595961601139|2.4570991234560315| 6961769|\n",
      "|          Tram|  morning| 0.3751695755129382| 2.357292648483867|10482793|\n",
      "+--------------+---------+-------------------+------------------+--------+"
     ]
    }
   ],
   "source": [
    "group_transport_id.show(10)"
   ]
  },
  {
   "cell_type": "code",
   "execution_count": 23,
   "metadata": {},
   "outputs": [
    {
     "data": {
      "application/vnd.jupyter.widget-view+json": {
       "model_id": "",
       "version_major": 2,
       "version_minor": 0
      },
      "text/plain": [
       "FloatProgress(value=0.0, bar_style='info', description='Progress:', layout=Layout(height='25px', width='50%'),…"
      ]
     },
     "metadata": {},
     "output_type": "display_data"
    }
   ],
   "source": [
    "#save two dataframe which contains delay information regarding to stop_id and transport_type\n",
    "group_stop_id.write.parquet('/user/{0}/stop_delay.parquet'.format(\"zhou\"))\n",
    "#group_trip_id.write.mode(\"overwrite\").parquet('/user/{0}/trip_id_delay.parquet'.format(\"zhou\"))\n",
    "group_transport_id.write.parquet('/user/{0}/transport_delay.parquet'.format(\"zhou\"))"
   ]
  },
  {
   "cell_type": "code",
   "execution_count": 24,
   "metadata": {},
   "outputs": [
    {
     "data": {
      "application/vnd.jupyter.widget-view+json": {
       "model_id": "",
       "version_major": 2,
       "version_minor": 0
      },
      "text/plain": [
       "FloatProgress(value=0.0, bar_style='info', description='Progress:', layout=Layout(height='25px', width='50%'),…"
      ]
     },
     "metadata": {},
     "output_type": "display_data"
    }
   ],
   "source": [
    "sc.stop()"
   ]
  },
  {
   "cell_type": "code",
   "execution_count": null,
   "metadata": {},
   "outputs": [],
   "source": []
  }
 ],
 "metadata": {
  "kernelspec": {
   "display_name": "PySpark",
   "language": "python",
   "name": "pysparkkernel"
  },
  "language_info": {
   "codemirror_mode": {
    "name": "python",
    "version": 3
   },
   "file_extension": ".py",
   "mimetype": "text/x-python",
   "name": "pyspark",
   "pygments_lexer": "python3"
  }
 },
 "nbformat": 4,
 "nbformat_minor": 4
}
