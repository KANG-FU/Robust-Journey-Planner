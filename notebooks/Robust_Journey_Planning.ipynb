{
 "cells": [
  {
   "cell_type": "markdown",
   "metadata": {},
   "source": [
    "# Import the necessary library"
   ]
  },
  {
   "cell_type": "code",
   "execution_count": null,
   "metadata": {},
   "outputs": [],
   "source": [
    "import matplotlib.pyplot as plt\n",
    "%matplotlib inline\n",
    "\n",
    "import numpy as np\n",
    "import networkx as nx\n",
    "import pandas as pd\n",
    "import time,datetime\n",
    "import scipy.stats\n",
    "import copy\n",
    "\n",
    "import plotly.graph_objects as go\n",
    "import plotly.express as px\n",
    "from ipywidgets import interactive, widgets, interact,interact_manual\n",
    "\n",
    "from hdfs3 import HDFileSystem\n",
    "hdfs = HDFileSystem(host='hdfs://iccluster040.iccluster.epfl.ch', port=8020, user='ebouille')"
   ]
  },
  {
   "cell_type": "markdown",
   "metadata": {},
   "source": [
    "# Load the dataset from Spark"
   ]
  },
  {
   "cell_type": "markdown",
   "metadata": {},
   "source": [
    "There are 6 datasets from Spark.\n",
    "1. stop_nodes: it records the stops information (like name, longitude, latitude) in the 15km of Zurich HB station.\n",
    "2. timetable: it record the transport timetable from 9am to 5pm of 07/05/2019 \n",
    "3. stops_edge: it records the stops edge in the graph construction. It has the source stop and destination stop with some other infomations like bus number and type, the time departing form source and the time arriving the destination.\n",
    "4. walking_edge: it records the walking edge in the graph construction. Walking edges are the stops within 500 meters that a passenger can walk from one stop to another.\n",
    "5. group_stop_id: it records the delay information for each stops using all the historical information.\n",
    "6. group_transport_delay: it records the delay information for each type of public transport."
   ]
  },
  {
   "cell_type": "code",
   "execution_count": null,
   "metadata": {},
   "outputs": [],
   "source": [
    "files = hdfs.glob('/user/{0}/stops_node.parquet/*.parquet'.format('zhou'))\n",
    "stops_node = pd.DataFrame()\n",
    "for file in files:\n",
    "    with hdfs.open(file) as f:\n",
    "        stops_node = stops_node.append(pd.read_parquet(f))"
   ]
  },
  {
   "cell_type": "code",
   "execution_count": null,
   "metadata": {},
   "outputs": [],
   "source": [
    "stops_node.head()"
   ]
  },
  {
   "cell_type": "code",
   "execution_count": null,
   "metadata": {},
   "outputs": [],
   "source": [
    "files = hdfs.glob('/user/{0}/timetable.parquet/*.parquet'.format('zhou'))\n",
    "timetable = pd.DataFrame()\n",
    "for file in files:\n",
    "    with hdfs.open(file) as f:\n",
    "        timetable = timetable.append(pd.read_parquet(f))"
   ]
  },
  {
   "cell_type": "code",
   "execution_count": null,
   "metadata": {},
   "outputs": [],
   "source": [
    "timetable.head()"
   ]
  },
  {
   "cell_type": "code",
   "execution_count": null,
   "metadata": {},
   "outputs": [],
   "source": [
    "files = hdfs.glob('/user/{0}/stops_edge.parquet/*.parquet'.format('kfu'))\n",
    "stops_edge = pd.DataFrame()\n",
    "for file in files:\n",
    "    with hdfs.open(file) as f:\n",
    "        stops_edge = stops_edge.append(pd.read_parquet(f))"
   ]
  },
  {
   "cell_type": "code",
   "execution_count": null,
   "metadata": {},
   "outputs": [],
   "source": [
    "stops_edge.head()"
   ]
  },
  {
   "cell_type": "code",
   "execution_count": null,
   "metadata": {},
   "outputs": [],
   "source": [
    "files = hdfs.glob('/user/{0}/walking_edge_with_attr.parquet/*.parquet'.format('zhou'))\n",
    "walking_edge = pd.DataFrame()\n",
    "for file in files:\n",
    "    with hdfs.open(file) as f:\n",
    "        walking_edge = walking_edge.append(pd.read_parquet(f))"
   ]
  },
  {
   "cell_type": "code",
   "execution_count": null,
   "metadata": {},
   "outputs": [],
   "source": [
    "walking_edge.head()"
   ]
  },
  {
   "cell_type": "code",
   "execution_count": null,
   "metadata": {},
   "outputs": [],
   "source": [
    "####read parquet for delay information\n",
    "files = hdfs.glob('/user/{0}/stop_delay.parquet/*.parquet'.format('zhou'))\n",
    "group_stop_id = pd.DataFrame()\n",
    "for file in files:\n",
    "    with hdfs.open(file) as f:\n",
    "        group_stop_id = group_stop_id.append(pd.read_parquet(f))"
   ]
  },
  {
   "cell_type": "code",
   "execution_count": null,
   "metadata": {},
   "outputs": [],
   "source": [
    "group_stop_id.head()"
   ]
  },
  {
   "cell_type": "code",
   "execution_count": null,
   "metadata": {},
   "outputs": [],
   "source": [
    "####read parquet for delay information\n",
    "files = hdfs.glob('/user/{0}/transport_delay.parquet/*.parquet'.format('zhou'))\n",
    "group_transport_delay = pd.DataFrame()\n",
    "for file in files:\n",
    "    with hdfs.open(file) as f:\n",
    "        group_transport_delay = group_transport_delay.append(pd.read_parquet(f))"
   ]
  },
  {
   "cell_type": "code",
   "execution_count": null,
   "metadata": {},
   "outputs": [],
   "source": [
    "group_transport_delay.head()"
   ]
  },
  {
   "cell_type": "markdown",
   "metadata": {},
   "source": [
    "# Modify the dateset"
   ]
  },
  {
   "cell_type": "markdown",
   "metadata": {},
   "source": [
    "For the simplicity, we will modify the dataset a little bit."
   ]
  },
  {
   "cell_type": "code",
   "execution_count": null,
   "metadata": {},
   "outputs": [],
   "source": [
    "# make the edge_time of walking to be integer and add the walking type as walking\n",
    "walking_edge[\"edge_time\"] = walking_edge[\"edge_time\"].apply(np.ceil)\n",
    "walking_edge[\"route_type\"] = \"walking\""
   ]
  },
  {
   "cell_type": "code",
   "execution_count": null,
   "metadata": {},
   "outputs": [],
   "source": [
    "# define two functions to transform time string into timestamp and transform timestamp into time string\n",
    "def str_to_timestamp(time):\n",
    "    hour = int(time.split(\":\")[0])\n",
    "    minute =  int(time.split(\":\")[1])\n",
    "    second = int(time.split(\":\")[2])\n",
    "    return hour*3600+minute*60+second\n",
    "\n",
    "def timestamp_str(timestamp):\n",
    "    hour = np.floor(timestamp / 3600)\n",
    "    minute = np.floor(timestamp%3600 /60)\n",
    "    sec = np.floor(timestamp%3600 % 60)\n",
    "    return str(int(hour))+':'+str(int(minute))+':'+str(int(sec))"
   ]
  },
  {
   "cell_type": "code",
   "execution_count": null,
   "metadata": {},
   "outputs": [],
   "source": [
    "# add time stamp into stop edges so that it is easlier to calculate the edge time.\n",
    "# we add 2 minutes to the edge to give a penalty on transfer\n",
    "stops_edge['dept_from_src_timestamp'] = stops_edge['dept_from_src'].apply(str_to_timestamp)\n",
    "stops_edge['arr_to_dst_timestamp'] = stops_edge['arr_to_dst'].apply(str_to_timestamp)\n",
    "stops_edge['edge_time'] = stops_edge['edge_time'] + 2\n",
    "stops_edge.head()"
   ]
  },
  {
   "cell_type": "markdown",
   "metadata": {},
   "source": [
    "# Combine the stop edges and walking edges"
   ]
  },
  {
   "cell_type": "code",
   "execution_count": null,
   "metadata": {},
   "outputs": [],
   "source": [
    "edge = pd.concat([stops_edge, walking_edge])"
   ]
  },
  {
   "cell_type": "markdown",
   "metadata": {},
   "source": [
    "# Construct the Graph using networkx"
   ]
  },
  {
   "cell_type": "code",
   "execution_count": null,
   "metadata": {},
   "outputs": [],
   "source": [
    "# The networkx will construct the graph to automatically eliminate the duplicate edges\n",
    "G = nx.from_pandas_edgelist(edge, 'src', 'dst',[\"edge_time\",\"line_number\",\"route_type\"],create_using=nx.DiGraph() )"
   ]
  },
  {
   "cell_type": "markdown",
   "metadata": {},
   "source": [
    "The max_edge_decision fucntion will help us find the least transfer times. If there is direct route, which is always preferred. If not, it will find the route with the least transfer.\n",
    "The find_path function will output all the possible path from the start point to the destination without considering time limit."
   ]
  },
  {
   "cell_type": "code",
   "execution_count": null,
   "metadata": {},
   "outputs": [],
   "source": [
    "def max_edge_decision(G, start, destination):\n",
    "    max_edges = 1\n",
    "    path_ = []\n",
    "    while True :\n",
    "        all_possible_routes = nx.all_simple_paths(G, source = start, target = destination, cutoff = max_edges)\n",
    "        for path in all_possible_routes:\n",
    "            path_.append(path)\n",
    "        if (len(path_) < 10 ):\n",
    "            max_edges = max_edges + 1\n",
    "            if (max_edges < 8):\n",
    "                continue\n",
    "            else:\n",
    "                print(\"They are not connected\")\n",
    "                break\n",
    "        else :\n",
    "            return max_edges\n",
    "        \n",
    "        \n",
    "# It searches all possible paths on the given graph with the given starts, destinations and max_edges.\n",
    "def find_path(G, start, destination, max_edges):\n",
    "    trips = []\n",
    "    for path in nx.all_simple_paths(G, source = start, target = destination, cutoff = max_edges):\n",
    "        line_number = []\n",
    "        time = []\n",
    "        route_type = []\n",
    "        for i in range (len(path) - 1):\n",
    "            stop_1 = path[i]\n",
    "            stop_2 = path[i + 1]\n",
    "            edge_dict = G.get_edge_data(stop_1, stop_2)\n",
    "            line_number.append(edge_dict['line_number'])\n",
    "            time.append(edge_dict['edge_time'])\n",
    "            route_type.append(edge_dict['route_type'])\n",
    "        trips.append([path,line_number,time,route_type])\n",
    "    return trips  "
   ]
  },
  {
   "cell_type": "markdown",
   "metadata": {},
   "source": [
    "The select_route_with_time function will consider the time limit. It will make sure that the passenger will arrive the destination before the arrive time he has input. Here we do not consider any delay.\n",
    "\n",
    "We use the backtrace method. First we find all the possible paths limited by max edges. Max_edges should not set too big because it will output thousands of paths, of which are useless. The directed route are always preferred. So max_edges need to increase from 1. Since we have all the paths, we will add the time limit to evaluate the feasibility of each path. We will cosider the last edge first, which is connected to the destination to see if any transport can arrive to the destination before the input arrive time. If it has, then doing the same way until we reach the start point. If not, discard this path. We will record the latest arrive time to each stops.\n",
    "\n",
    "The computed route has the folloing format: it is a lists of list.\n",
    "1. The first list of each path is the stops encounted.\n",
    "2. The second list of each path is the line number of transport.\n",
    "3. The third list of each path is the time spent of each edge\n",
    "4. The fourth list of each path is the type of transport\n",
    "5. The fifth list of each path is the latest time arrived to each stop.\n"
   ]
  },
  {
   "cell_type": "code",
   "execution_count": null,
   "metadata": {},
   "outputs": [],
   "source": [
    "def select_route_with_time(G, start, destination, max_edges, arrive_time,edge):\n",
    "    current_timestamp = str_to_timestamp(arrive_time)\n",
    "    final_route = []\n",
    "    j = 0 \n",
    "    trips = find_path(G, start, destination, max_edges)\n",
    "    for trip in trips:\n",
    "        route = trip[0][::-1]\n",
    "        go_type = trip[1][::-1]\n",
    "        time = trip[2][::-1]\n",
    "        route_time = []\n",
    "        for i in range(len(route)-1):\n",
    "            if (go_type[i] == \"walking\"):\n",
    "                if (i==0):\n",
    "                    route_time.append(timestamp_str(current_timestamp))\n",
    "                walking_time = edge[(edge['dst'] == route[i]) & (edge['src'] == route[i+1])& (edge['line_number'] == go_type[i] )][\"edge_time\"].values[0]\n",
    "                current_timestamp = current_timestamp - int(walking_time*60)\n",
    "                route_time.append(timestamp_str(current_timestamp)) \n",
    "            else:\n",
    "                all_bus_time = edge[(edge['dst'] == route[i]) & (edge['src'] == route[i+1])& (edge['line_number'] == go_type[i] )]\n",
    "                filter_bus_time = all_bus_time[all_bus_time['arr_to_dst_timestamp'] <= current_timestamp]\n",
    "                if filter_bus_time[\"arr_to_dst_timestamp\"].values.size != 0: \n",
    "                    arrive_time = int(np.max(filter_bus_time[\"arr_to_dst_timestamp\"].values))\n",
    "                    current_timestamp = arrive_time - time[i]*60\n",
    "                    if (i==0):\n",
    "                        route_time.append(timestamp_str(arrive_time))\n",
    "                    route_time.append(timestamp_str(current_timestamp)) \n",
    "                else:\n",
    "                    break \n",
    "        if len(route_time) == len(route):\n",
    "            final_route.append([trip,route_time[::-1]])\n",
    "            \n",
    "    return final_route\n",
    "        "
   ]
  },
  {
   "cell_type": "markdown",
   "metadata": {},
   "source": [
    "## A simple example to help you understant the output of our route."
   ]
  },
  {
   "cell_type": "code",
   "execution_count": null,
   "metadata": {},
   "outputs": [],
   "source": [
    "arrive_time = \"10:25:00\"\n",
    "start = \"8530813\"\n",
    "destination = '8503086'\n",
    "max_edges = max_edge_decision(G, start, destination)\n",
    "final_route = select_route_with_time(G, start, destination, max_edges, arrive_time,edge)\n",
    "final_route"
   ]
  },
  {
   "cell_type": "markdown",
   "metadata": {},
   "source": [
    "## Model to predict the success probability of each route:"
   ]
  },
  {
   "cell_type": "code",
   "execution_count": null,
   "metadata": {},
   "outputs": [],
   "source": [
    "#function to compute the time to arrive at destination of each edge\n",
    "def time_cal(src_time,edge_time):\n",
    "    h = datetime.datetime.strptime(src_time,'%H:%M:%S').hour\n",
    "    m = datetime.datetime.strptime(src_time,'%H:%M:%S').minute\n",
    "    s = datetime.datetime.strptime(src_time,'%H:%M:%S').second\n",
    "    m = m + int(edge_time)\n",
    "    if m >= 60:\n",
    "        m = int(m -60)\n",
    "        h = h +1\n",
    "    x = \":\"\n",
    "    dst_time = str(h)+x+str(m)+x+str(s)\n",
    "    return dst_time\n",
    "#function to compute the maximum delay time that we can accept to catch the next edge\n",
    "def max_delay(dst_time,next_src_time):\n",
    "    h1 = datetime.datetime.strptime(dst_time,'%H:%M:%S').hour\n",
    "    m1 = datetime.datetime.strptime(dst_time,'%H:%M:%S').minute\n",
    "    s1 = datetime.datetime.strptime(dst_time,'%H:%M:%S').second\n",
    "    h2 = datetime.datetime.strptime(next_src_time,'%H:%M:%S').hour\n",
    "    m2 = datetime.datetime.strptime(next_src_time,'%H:%M:%S').minute\n",
    "    s2 = datetime.datetime.strptime(next_src_time,'%H:%M:%S').second\n",
    "    delay = 60*(h2-h1)+(m2-m1)\n",
    "    return delay"
   ]
  },
  {
   "cell_type": "code",
   "execution_count": null,
   "metadata": {},
   "outputs": [],
   "source": [
    "#the function to convert the output of final_route to another format which can be easier for us to compute the success probability of route\n",
    "def rearrange_route(final_route,arrive_time):\n",
    "    i = 0\n",
    "    route_print = {}\n",
    "    for route in final_route:\n",
    "        route_number = i\n",
    "        stops = route[0][0]\n",
    "        stops_nb = len(stops)\n",
    "        line_numbers = route[0][1]\n",
    "        edge_time = route[0][2]\n",
    "        transport_types = route[0][3] \n",
    "        src_time = route[1]\n",
    "        route_print[route_number] = []\n",
    "        i = i+1\n",
    "        for j in range(stops_nb-1):\n",
    "            if j == stops_nb - 2:\n",
    "                sub_route = [stops[j],stops[j+1],line_numbers[j],transport_types[j],src_time[j],time_cal(src_time[j],edge_time[j]),max_delay(time_cal(src_time[j],edge_time[j]),arrive_time)]\n",
    "            else:\n",
    "                sub_route = [stops[j],stops[j+1],line_numbers[j],transport_types[j],src_time[j],time_cal(src_time[j],edge_time[j]),max_delay(time_cal(src_time[j],edge_time[j]),src_time[j+1])]\n",
    "            route_print[route_number].append(sub_route)\n",
    "    #print(route_print)\n",
    "    return route_print"
   ]
  },
  {
   "cell_type": "code",
   "execution_count": null,
   "metadata": {},
   "outputs": [],
   "source": [
    "route_print = rearrange_route(final_route,arrive_time)"
   ]
  },
  {
   "cell_type": "markdown",
   "metadata": {},
   "source": [
    "### Compute the success probability for each edge to success\n",
    "To compute the success probability,we analyze the distribution of the delay time based on stop information and transport type:\n",
    "<img src=\"img/stop_id.PNG\" width=\"600\" height=\"400\">                           <img src=\"img/transport_type.PNG\" width=\"600\" height=\"300\">\n",
    "\n",
    "As we can observe from images, the distributions of the delay time are very similar to normal distribution with mean value around 0.\n",
    "The statistical function packages from scipy.stats can be used to find the cdf with the mean and standard deviation.\n",
    "\n",
    "[The Link to the tutorial for scipy.stats.norm](https://docs.scipy.org/doc/scipy/reference/generated/scipy.stats.norm.html#scipy.stats.norm)\n",
    "\n",
    "The probability can be calculated by scipy.stats.norm(loc=mean, scale=std).cdf(delay), indicating the probability that can arrive before the delay"
   ]
  },
  {
   "cell_type": "code",
   "execution_count": null,
   "metadata": {},
   "outputs": [],
   "source": [
    "# the function to calculate the probability that we can arrive at the destination before the max_delay\n",
    "# here we assume the delay at each stop conforms to normal distribution\n",
    "def calc_prob(delay,mean,std):\n",
    "    p = scipy.stats.norm(loc=mean, scale=std).cdf(delay)\n",
    "    return p"
   ]
  },
  {
   "cell_type": "markdown",
   "metadata": {},
   "source": [
    "### Compute success probability for each route:\n",
    "    1. Compute the probability for each edge to catch the next edge:\n",
    "    For edges with stop_id in the real data:\n",
    "        The probability can be calculated with average mean and standard deviation found by the stop_id in the actual data.\n",
    "    For edges without stop_id but have the transport_type in the real data:\n",
    "        The probability can be calculated with average mean and standard deviation found by the transport_type in the actual data.\n",
    "    For edges without stop_id and transport_tyepe in the real data:\n",
    "        The probability is set to 1, as we don't have the actual data to infer its delay.\n",
    "    For walking edge:\n",
    "        The probability is set to 1, as we can make sure you can arrive before the next edge leaves, based on the back-trace method.\n",
    "    2. Compute the probability for the whole route:\n",
    "\\begin{equation}\n",
    "p_{route} = \\prod_{i = 1}^{n}p_{edge}\n",
    "\\end{equation}"
   ]
  },
  {
   "cell_type": "code",
   "execution_count": null,
   "metadata": {},
   "outputs": [],
   "source": [
    "#the function to calculate the success probability of each route\n",
    "def route_probability(routes):\n",
    "    #copy the information in routes to routes2, use deepcopy to make sure change in routes2 will nor influence information in routes\n",
    "    routes2 = copy.deepcopy(routes)\n",
    "    for route_number in routes2:\n",
    "        #for each route, the start probability to success is 1\n",
    "        route = routes2.get(route_number)\n",
    "        prob = 1\n",
    "        \n",
    "        for i,edge in enumerate(route):\n",
    "            #set the probability for each edge to catch the next edge\n",
    "            #print(edge)\n",
    "            if edge[2] == \"walking\":\n",
    "                #if the edge is walking, the probability for this edge to catch next edge is set to 1, as walking can make sure we can catch the next edge\n",
    "                edge_prob = 1\n",
    "                edge = edge.append(edge_prob)\n",
    "            else:\n",
    "                dst_stop_id = edge[1]\n",
    "                dst_type = edge[3]\n",
    "                dst_hour =  datetime.datetime.strptime(edge[5],'%H:%M:%S').hour\n",
    "                if dst_hour <= 11:\n",
    "                    dst_day_time = \"morning\"\n",
    "                elif dst_hour <=14:\n",
    "                    dst_day_time = \"noon\"\n",
    "                else:\n",
    "                    dst_day_time = \"afternoon\"\n",
    "                delay = group_stop_id.loc[(group_stop_id['stop_id'] == '%s'%dst_stop_id) & (group_stop_id['day_time'] == '%s'%dst_day_time) & (group_stop_id['transport_type'] == '%s'%dst_type)]\n",
    "                if delay.empty:\n",
    "                    #if the stop_id doesn't have corresponding data in the actual dataset\n",
    "                    #print(\"empty delay:\")\n",
    "                    transport_delay = group_transport_delay.loc[(group_transport_delay['day_time'] == '%s'%dst_day_time) & (group_transport_delay['transport_type'] == '%s'%dst_type)]\n",
    "                    if transport_delay.empty:\n",
    "                        #if the transport_type also doesn't have corresponding data in the actual dataset, we set the success probability for the edge to 1\n",
    "                        edge_prob = 1\n",
    "                    else:\n",
    "                        #use the mean and std of the transport type to calculate the probability\n",
    "                        tran_mean, tran_std = transport_delay['mean_arr_delay'].item(), transport_delay['std_arr_delay'].item()\n",
    "                        max_delay = edge[-1]\n",
    "                        edge_prob = calc_prob(max_delay,tran_mean,tran_std)\n",
    "                else:\n",
    "                    mean, std = delay['mean_arr_delay'].item(), delay['std_arr_delay'].item()\n",
    "                    max_delay = edge[-1]\n",
    "                    edge_prob = calc_prob(max_delay,mean,std)\n",
    "                edge = edge.append(edge_prob)\n",
    "        #calculate the probability for the total route\n",
    "        for j,edge in enumerate(route):\n",
    "            prob = prob * route[j-1][-1]\n",
    "        routes2[route_number] = routes2.get(route_number) + [prob]\n",
    "    return routes2"
   ]
  },
  {
   "cell_type": "markdown",
   "metadata": {},
   "source": [
    "add a function to select route above the confidence interval"
   ]
  },
  {
   "cell_type": "code",
   "execution_count": null,
   "metadata": {},
   "outputs": [],
   "source": [
    "def route_select(routes, confidence_interval):\n",
    "    route_conf = {}\n",
    "    i = 0\n",
    "    for route_number in routes:\n",
    "        route = routes.get(route_number)\n",
    "        prob = route[-1]\n",
    "        if prob >= confidence_interval:\n",
    "            new_route_nb = i\n",
    "            route_conf[new_route_nb] = routes.get(route_number)\n",
    "            i = i+1\n",
    "    return route_conf"
   ]
  },
  {
   "cell_type": "markdown",
   "metadata": {},
   "source": [
    "This is our wrapper function to output the route."
   ]
  },
  {
   "cell_type": "code",
   "execution_count": null,
   "metadata": {},
   "outputs": [],
   "source": [
    "def find_selected_route(G,edge, start, destination, max_edges,arrive_time,confidence_interval):\n",
    "    final_route = select_route_with_time(G, start, destination, max_edges, arrive_time,edge)\n",
    "    route_print = rearrange_route(final_route,arrive_time)\n",
    "    route_prob = route_probability(route_print)\n",
    "    selected_route = route_select(route_prob, confidence_interval)\n",
    "    return selected_route"
   ]
  },
  {
   "cell_type": "markdown",
   "metadata": {},
   "source": [
    "This function is used for visualization to show the route."
   ]
  },
  {
   "cell_type": "code",
   "execution_count": null,
   "metadata": {},
   "outputs": [],
   "source": [
    "def df_for_plot(selected_route):\n",
    "    df_route = []\n",
    "    for route_number in selected_route:\n",
    "        route = selected_route.get(route_number)\n",
    "        prob = route[-1]\n",
    "        edges = route[:-1]\n",
    "        i = 0\n",
    "        stops = []\n",
    "        stop_lats = []\n",
    "        stop_lons = []\n",
    "        for e in edges:\n",
    "            src_id = e[0]\n",
    "            dst_id = e[1]\n",
    "            src = stops_node.loc[(stops_node['stop_id'] == '%s'%src_id)]\n",
    "            src_lat, src_lon = src.stop_lat.item(),src.stop_lon.item()\n",
    "            dst = stops_node.loc[(stops_node['stop_id'] == '%s'%dst_id)]\n",
    "            dst_lat, dst_lon = dst.stop_lat.item(),dst.stop_lon.item()\n",
    "            if i == 0:\n",
    "                stops.append(src_id)\n",
    "                stop_lats.append(src_lat)\n",
    "                stop_lons.append(src_lon)\n",
    "\n",
    "            stops.append(dst_id)\n",
    "            stop_lats.append(dst_lat)\n",
    "            stop_lons.append(dst_lon)\n",
    "        route_info = [stops,stop_lats,stop_lons]\n",
    "        df_route.append(route_info)\n",
    "    return df_route"
   ]
  },
  {
   "cell_type": "markdown",
   "metadata": {},
   "source": [
    "# Visualization"
   ]
  },
  {
   "cell_type": "markdown",
   "metadata": {},
   "source": [
    "We have used the widgets. In the widgets, you can select the stop id of your start point and destination point as well as the arrived time. Altenatively, you can set the minimum success probability of route. Then you can click \"Run interact\". It will calculate the proper route for you. "
   ]
  },
  {
   "cell_type": "code",
   "execution_count": null,
   "metadata": {},
   "outputs": [],
   "source": [
    "def interactive_journey_planner(start, destination, arrive_time, confidence_interval):\n",
    "    print(\"Finding all the possible routes, please waiting....\")\n",
    "    max_edges = max_edge_decision(G, start, destination)\n",
    "    available_route = find_path(G, start, destination, max_edges)\n",
    "    print(\"There are {} available route\".format(len(available_route)))\n",
    "    print(\"Calculating the best routes, please waiting....\")\n",
    "    selected_route = find_selected_route(G,edge, start, destination, max_edges,arrive_time,confidence_interval)\n",
    "    print(\"################################################\")\n",
    "    print('There are {} best routes'.format(len(selected_route)))\n",
    "    for i in range(len(selected_route)):\n",
    "        print(\"Route {} will arrive destination at {} with the total success probability of {}\".format(i+1,selected_route.get(i)[max_edges-1][5],selected_route.get(i)[max_edges]))\n",
    "        for j in range(max_edges):\n",
    "            if (selected_route.get(i)[j][2] != \"walking\"):\n",
    "                print(\"From {} at {} by {} {} to {} at {} with probalility {} \"\\\n",
    "                      .format(selected_route.get(i)[j][0], selected_route.get(i)[j][4], selected_route.get(i)[j][3],selected_route.get(i)[j][2], selected_route.get(i)[j][1],selected_route.get(i)[j][5],selected_route.get(i)[j][7] ))\n",
    "            else:\n",
    "                print(\"From {} at {} by {} to {} at {} with probalility {}\"\\\n",
    "                      .format(selected_route.get(i)[j][0], selected_route.get(i)[j][4],selected_route.get(i)[j][2], selected_route.get(i)[j][1],selected_route.get(i)[j][5],selected_route.get(i)[j][7]))\n",
    "        print(\"-------------------------------------------------------\")\n",
    "        \n",
    "    df_route = df_for_plot(selected_route)\n",
    "\n",
    "    if len(df_route) != 0:\n",
    "        fig = px.scatter_mapbox(stops_node,\n",
    "                    lon = 'stop_lon',\n",
    "                    lat = 'stop_lat',\n",
    "\n",
    "                    title = 'Visulization',\n",
    "                    hover_data = ['stop_id','stop_name'],\n",
    "                    zoom=10,\n",
    "                    )\n",
    "        for i,route in enumerate(df_route):\n",
    "            fig.add_trace(go.Scattermapbox(\n",
    "                name='route %d'%i,\n",
    "                mode=\"markers+lines\",\n",
    "                lon=df_route[i][2],\n",
    "                lat=df_route[i][1],\n",
    "                marker={'size': 10},\n",
    "                text=df_route[i][0]))\n",
    "        fig.update_layout(mapbox = {'accesstoken':\"pk.eyJ1IjoibHlkaWF6enp6IiwiYSI6ImNrcDl3aWY4eTBvNjUydW54cjQ4a2N3c2sifQ.O4o0XNl-jGe5xdqZS73a6A\", 'style':'streets'},\n",
    "                         title = dict(x=0.5,xref='paper'),\n",
    "                         margin={'l':10,\"r\":0,'t':50,'b':10})\n",
    "        fig.show()\n",
    "    else:\n",
    "        print(\"There is no success route under the minimum success probability of {}\".format(confidence_interval))\n",
    "        print(\"Please change the arrive time or lower the minimum success probability!\")\n",
    "        \n",
    "\n"
   ]
  },
  {
   "cell_type": "code",
   "execution_count": null,
   "metadata": {},
   "outputs": [],
   "source": [
    "\n",
    "\n",
    "style = {'description_width': 'initial'}\n",
    "\n",
    "start_selector = widgets.Dropdown(\n",
    "    options = timetable.stop_id.unique(),\n",
    "    description = 'Start_station: ',\n",
    "    style = style\n",
    "    \n",
    ")\n",
    "\n",
    "destination_selector = widgets.Dropdown(\n",
    "    options = timetable.stop_id.unique(),\n",
    "    description = 'Destination_station: ',\n",
    "     style = style\n",
    ")\n",
    "\n",
    "\n",
    "timestamp_interval = np.array(range(36000,57600,300))\n",
    "time_interval = []\n",
    "for i in range(72):\n",
    "    time_interval.append(timestamp_str(timestamp_interval[i]))\n",
    "arrive_time_selector = widgets.Dropdown(\n",
    "    options = time_interval,\n",
    "    description = 'Arrival Time: ',\n",
    "     style = style\n",
    ")\n",
    "\n",
    "\n",
    "minimum_success_probability = widgets.FloatSlider(\n",
    "    min=0,\n",
    "    max=1,\n",
    "    step=0.05,\n",
    "    description='Minimum success prob:',\n",
    "    disabled=False,\n",
    "    continuous_update=False,\n",
    "    orientation='horizontal',\n",
    "     style = style\n",
    ")\n",
    "\n"
   ]
  },
  {
   "cell_type": "code",
   "execution_count": null,
   "metadata": {},
   "outputs": [],
   "source": [
    "_ = interact_manual(interactive_journey_planner, start = start_selector, destination = destination_selector, arrive_time = arrive_time_selector,  confidence_interval =minimum_success_probability)"
   ]
  },
  {
   "cell_type": "code",
   "execution_count": null,
   "metadata": {},
   "outputs": [],
   "source": []
  },
  {
   "cell_type": "markdown",
   "metadata": {},
   "source": [
    "# Validation "
   ]
  },
  {
   "cell_type": "markdown",
   "metadata": {},
   "source": [
    "We want to find two stops with the high delay from historical data. Then calculate the route. First, compare the route designed by SBB to validate our route is feasible. Then check the propability if it has a low success probability. The selected start point is Schlieren, Geissweid and the destination is Zürich, Trichtisal. They are both bus and the busy time is in the afternoon. And we also choose a afternoon time 14:15 to validate."
   ]
  },
  {
   "cell_type": "code",
   "execution_count": null,
   "metadata": {},
   "outputs": [],
   "source": [
    "#Obtain 10 stops with high delay and also we avoid delays caused by accidental conditions\n",
    "group_stop_id.where((group_stop_id.data_nb>100)).sort_values(\"mean_arr_delay\",ascending=False).head(10)"
   ]
  },
  {
   "cell_type": "code",
   "execution_count": null,
   "metadata": {},
   "outputs": [],
   "source": [
    "start = \"8596007\"\n",
    "destination = '8591400'\n",
    "max_edges = max_edge_decision(G, start, destination)\n",
    "arrive_time = \"14:15:00\"\n",
    "confidence_interval = 0\n",
    "selected_route = find_selected_route(G,edge, start, destination, max_edges,arrive_time,confidence_interval)\n",
    "print('There are {} best routes'.format(len(selected_route)))\n",
    "for i in range(len(selected_route)):\n",
    "    print(\"Route {} will arrive destination at {} with the total success probability of {}\".format(i+1,selected_route.get(i)[max_edges-1][5],selected_route.get(i)[max_edges]))\n",
    "    for j in range(max_edges):\n",
    "        if (selected_route.get(i)[j][2] != \"walking\"):\n",
    "            print(\"From {} at {} by {} {} to {} at {} with probalility {} \"\\\n",
    "                  .format(selected_route.get(i)[j][0], selected_route.get(i)[j][4], selected_route.get(i)[j][3],selected_route.get(i)[j][2], selected_route.get(i)[j][1],selected_route.get(i)[j][5],selected_route.get(i)[j][7] ))\n",
    "        else:\n",
    "            print(\"From {} at {} by {} to {} at {} with probalility {}\"\\\n",
    "                  .format(selected_route.get(i)[j][0], selected_route.get(i)[j][4],selected_route.get(i)[j][2], selected_route.get(i)[j][1],selected_route.get(i)[j][5],selected_route.get(i)[j][7]))\n",
    "    print(\"-------------------------------------------------------\")"
   ]
  },
  {
   "cell_type": "markdown",
   "metadata": {},
   "source": [
    "### This is the route from SBB.\n",
    "By comparision, both route can arrive to the destination at 14.13. And the route is almost the same. However, SBB does not show the success probability. From our model, because part of bus 31 and 91 has a high delay probability. So the total success probability is low. This also reflects these two stops has a high delay. "
   ]
  },
  {
   "cell_type": "markdown",
   "metadata": {},
   "source": [
    "<img src=\"img/validation.png\" width=\"600\" height=\"200\">   "
   ]
  },
  {
   "cell_type": "code",
   "execution_count": null,
   "metadata": {},
   "outputs": [],
   "source": []
  }
 ],
 "metadata": {
  "kernelspec": {
   "display_name": "Python 3",
   "language": "python",
   "name": "python3"
  },
  "language_info": {
   "codemirror_mode": {
    "name": "ipython",
    "version": 3
   },
   "file_extension": ".py",
   "mimetype": "text/x-python",
   "name": "python",
   "nbconvert_exporter": "python",
   "pygments_lexer": "ipython3",
   "version": "3.7.6"
  }
 },
 "nbformat": 4,
 "nbformat_minor": 4
}
