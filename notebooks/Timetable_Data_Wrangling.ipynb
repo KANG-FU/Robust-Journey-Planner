{
 "cells": [
  {
   "cell_type": "markdown",
   "metadata": {},
   "source": [
    "# Start a Spark instance"
   ]
  },
  {
   "cell_type": "code",
   "execution_count": 2,
   "metadata": {},
   "outputs": [
    {
     "data": {
      "text/html": [
       "Current session configs: <tt>{'name': 'kfu-skr-final-assignment', 'executorMemory': '4G', 'executorCores': 1, 'numExecutors': 1, 'conf': {'spark.jars.repositories': 'https://repos.spark-packages.org', 'spark.jars.packages': 'graphframes:graphframes:0.7.0-spark2.3-s_2.11'}, 'kind': 'pyspark'}</tt><br>"
      ],
      "text/plain": [
       "<IPython.core.display.HTML object>"
      ]
     },
     "metadata": {},
     "output_type": "display_data"
    },
    {
     "data": {
      "text/html": [
       "<table>\n",
       "<tr><th>ID</th><th>YARN Application ID</th><th>Kind</th><th>State</th><th>Spark UI</th><th>Driver log</th><th>User</th><th>Current session?</th></tr><tr><td>7135</td><td>application_1618324153128_6839</td><td>pyspark</td><td>idle</td><td><a target=\"_blank\" href=\"http://iccluster040.iccluster.epfl.ch:8088/proxy/application_1618324153128_6839/\">Link</a></td><td><a target=\"_blank\" href=\"http://iccluster068.iccluster.epfl.ch:8042/node/containerlogs/container_e01_1618324153128_6839_01_000001/ebouille\">Link</a></td><td>None</td><td></td></tr><tr><td>7137</td><td>application_1618324153128_6842</td><td>pyspark</td><td>idle</td><td><a target=\"_blank\" href=\"http://iccluster040.iccluster.epfl.ch:8088/proxy/application_1618324153128_6842/\">Link</a></td><td><a target=\"_blank\" href=\"http://iccluster078.iccluster.epfl.ch:8042/node/containerlogs/container_e01_1618324153128_6842_01_000001/ebouille\">Link</a></td><td>None</td><td></td></tr><tr><td>7139</td><td>application_1618324153128_6844</td><td>pyspark</td><td>idle</td><td><a target=\"_blank\" href=\"http://iccluster040.iccluster.epfl.ch:8088/proxy/application_1618324153128_6844/\">Link</a></td><td><a target=\"_blank\" href=\"http://iccluster066.iccluster.epfl.ch:8042/node/containerlogs/container_e01_1618324153128_6844_01_000001/ebouille\">Link</a></td><td>None</td><td></td></tr><tr><td>7140</td><td>application_1618324153128_6845</td><td>pyspark</td><td>idle</td><td><a target=\"_blank\" href=\"http://iccluster040.iccluster.epfl.ch:8088/proxy/application_1618324153128_6845/\">Link</a></td><td><a target=\"_blank\" href=\"http://iccluster067.iccluster.epfl.ch:8042/node/containerlogs/container_e01_1618324153128_6845_01_000001/ebouille\">Link</a></td><td>None</td><td></td></tr><tr><td>7141</td><td>application_1618324153128_6846</td><td>pyspark</td><td>idle</td><td><a target=\"_blank\" href=\"http://iccluster040.iccluster.epfl.ch:8088/proxy/application_1618324153128_6846/\">Link</a></td><td><a target=\"_blank\" href=\"http://iccluster072.iccluster.epfl.ch:8042/node/containerlogs/container_e01_1618324153128_6846_01_000001/ebouille\">Link</a></td><td>None</td><td></td></tr></table>"
      ],
      "text/plain": [
       "<IPython.core.display.HTML object>"
      ]
     },
     "metadata": {},
     "output_type": "display_data"
    }
   ],
   "source": [
    "%%local\n",
    "import os\n",
    "import json\n",
    "username = os.environ['JUPYTERHUB_USER']\n",
    "namespace = os.environ['CI_NAMESPACE']\n",
    "project = os.environ['CI_PROJECT']\n",
    "\n",
    "configuration = dict(\n",
    "    name = f\"{username}-{namespace}-{project}\",\n",
    "    executorMemory = \"4G\",\n",
    "    executorCores = 1,\n",
    "    numExecutors = 1,\n",
    "    conf = {\n",
    "        # \"spark.pyspark.python\": \"/opt/anaconda3/bin/python3\", # Use python3\n",
    "        \"spark.jars.repositories\": \"https://repos.spark-packages.org\",\n",
    "        \"spark.jars.packages\": \"graphframes:graphframes:0.7.0-spark2.3-s_2.11\"\n",
    "    }\n",
    "                \n",
    ")\n",
    "\n",
    "from IPython import get_ipython\n",
    "ipython = get_ipython()\n",
    "ipython.run_cell_magic('configure', line=\"-f\",  cell=json.dumps(configuration))"
   ]
  },
  {
   "cell_type": "code",
   "execution_count": 3,
   "metadata": {},
   "outputs": [
    {
     "name": "stdout",
     "output_type": "stream",
     "text": [
      "Starting Spark application\n"
     ]
    },
    {
     "data": {
      "text/html": [
       "<table>\n",
       "<tr><th>ID</th><th>YARN Application ID</th><th>Kind</th><th>State</th><th>Spark UI</th><th>Driver log</th><th>User</th><th>Current session?</th></tr><tr><td>7142</td><td>application_1618324153128_6847</td><td>pyspark</td><td>idle</td><td><a target=\"_blank\" href=\"http://iccluster040.iccluster.epfl.ch:8088/proxy/application_1618324153128_6847/\">Link</a></td><td><a target=\"_blank\" href=\"http://iccluster078.iccluster.epfl.ch:8042/node/containerlogs/container_e01_1618324153128_6847_01_000001/ebouille\">Link</a></td><td>None</td><td>✔</td></tr></table>"
      ],
      "text/plain": [
       "<IPython.core.display.HTML object>"
      ]
     },
     "metadata": {},
     "output_type": "display_data"
    },
    {
     "data": {
      "application/vnd.jupyter.widget-view+json": {
       "model_id": "",
       "version_major": 2,
       "version_minor": 0
      },
      "text/plain": [
       "FloatProgress(value=0.0, bar_style='info', description='Progress:', layout=Layout(height='25px', width='50%'),…"
      ]
     },
     "metadata": {},
     "output_type": "display_data"
    },
    {
     "name": "stdout",
     "output_type": "stream",
     "text": [
      "SparkSession available as 'spark'.\n"
     ]
    },
    {
     "data": {
      "application/vnd.jupyter.widget-view+json": {
       "model_id": "",
       "version_major": 2,
       "version_minor": 0
      },
      "text/plain": [
       "FloatProgress(value=0.0, bar_style='info', description='Progress:', layout=Layout(height='25px', width='50%'),…"
      ]
     },
     "metadata": {},
     "output_type": "display_data"
    }
   ],
   "source": [
    "sc.addPyFile('graphframes_graphframes-0.7.0-spark2.3-s_2.11.jar')"
   ]
  },
  {
   "cell_type": "markdown",
   "metadata": {},
   "source": [
    "# Load the data "
   ]
  },
  {
   "cell_type": "code",
   "execution_count": 5,
   "metadata": {},
   "outputs": [
    {
     "data": {
      "application/vnd.jupyter.widget-view+json": {
       "model_id": "",
       "version_major": 2,
       "version_minor": 0
      },
      "text/plain": [
       "FloatProgress(value=0.0, bar_style='info', description='Progress:', layout=Layout(height='25px', width='50%'),…"
      ]
     },
     "metadata": {},
     "output_type": "display_data"
    }
   ],
   "source": [
    "import pyspark.sql.functions as f\n",
    "import math"
   ]
  },
  {
   "cell_type": "code",
   "execution_count": 6,
   "metadata": {},
   "outputs": [
    {
     "data": {
      "application/vnd.jupyter.widget-view+json": {
       "model_id": "",
       "version_major": 2,
       "version_minor": 0
      },
      "text/plain": [
       "FloatProgress(value=0.0, bar_style='info', description='Progress:', layout=Layout(height='25px', width='50%'),…"
      ]
     },
     "metadata": {},
     "output_type": "display_data"
    }
   ],
   "source": [
    "stop_times = spark.read.csv(\"/data/sbb/csv/timetable/stop_times/2019/05/07/stop_times.csv\", header=True)\n"
   ]
  },
  {
   "cell_type": "code",
   "execution_count": 7,
   "metadata": {},
   "outputs": [
    {
     "data": {
      "application/vnd.jupyter.widget-view+json": {
       "model_id": "",
       "version_major": 2,
       "version_minor": 0
      },
      "text/plain": [
       "FloatProgress(value=0.0, bar_style='info', description='Progress:', layout=Layout(height='25px', width='50%'),…"
      ]
     },
     "metadata": {},
     "output_type": "display_data"
    }
   ],
   "source": [
    "stops = spark.read.orc(\"/data/sbb/orc/geostops/\") \n"
   ]
  },
  {
   "cell_type": "code",
   "execution_count": 8,
   "metadata": {},
   "outputs": [
    {
     "data": {
      "application/vnd.jupyter.widget-view+json": {
       "model_id": "",
       "version_major": 2,
       "version_minor": 0
      },
      "text/plain": [
       "FloatProgress(value=0.0, bar_style='info', description='Progress:', layout=Layout(height='25px', width='50%'),…"
      ]
     },
     "metadata": {},
     "output_type": "display_data"
    }
   ],
   "source": [
    "calendar = spark.read.csv(\"/data/sbb/csv/timetable/calendar/2019/05/07/calendar.csv\",header = \"True\") \n"
   ]
  },
  {
   "cell_type": "code",
   "execution_count": 9,
   "metadata": {},
   "outputs": [
    {
     "data": {
      "application/vnd.jupyter.widget-view+json": {
       "model_id": "",
       "version_major": 2,
       "version_minor": 0
      },
      "text/plain": [
       "FloatProgress(value=0.0, bar_style='info', description='Progress:', layout=Layout(height='25px', width='50%'),…"
      ]
     },
     "metadata": {},
     "output_type": "display_data"
    }
   ],
   "source": [
    "trips = spark.read.csv(\"/data/sbb/csv/timetable/trips/2019/05/07/trips.csv\",header = \"True\") \n"
   ]
  },
  {
   "cell_type": "code",
   "execution_count": 10,
   "metadata": {},
   "outputs": [
    {
     "data": {
      "application/vnd.jupyter.widget-view+json": {
       "model_id": "",
       "version_major": 2,
       "version_minor": 0
      },
      "text/plain": [
       "FloatProgress(value=0.0, bar_style='info', description='Progress:', layout=Layout(height='25px', width='50%'),…"
      ]
     },
     "metadata": {},
     "output_type": "display_data"
    }
   ],
   "source": [
    "routes =  spark.read.csv(\"/data/sbb/csv/timetable/routes/2019/05/07/routes.csv\",header = \"True\") \n"
   ]
  },
  {
   "cell_type": "markdown",
   "metadata": {},
   "source": [
    "# Data pre-processing "
   ]
  },
  {
   "cell_type": "markdown",
   "metadata": {},
   "source": [
    "## filter the stops within 15km of Zurich"
   ]
  },
  {
   "cell_type": "code",
   "execution_count": 11,
   "metadata": {},
   "outputs": [
    {
     "data": {
      "application/vnd.jupyter.widget-view+json": {
       "model_id": "",
       "version_major": 2,
       "version_minor": 0
      },
      "text/plain": [
       "FloatProgress(value=0.0, bar_style='info', description='Progress:', layout=Layout(height='25px', width='50%'),…"
      ]
     },
     "metadata": {},
     "output_type": "display_data"
    }
   ],
   "source": [
    "from math import sin, cos, sqrt, atan2, radians,asin\n",
    "import numpy as np\n",
    "\n",
    "# Given two location parameters and calculate the distance between them. \n",
    "def calc_dist(lat_1, lat_2, lon_1, lon_2):\n",
    "    R = 6378 \n",
    "    dlat = radians(lat_1 - lat_2)\n",
    "    dlon = radians(lon_1 - lon_2)\n",
    "    a = sin(dlat/2) * sin(dlat/2) + cos(radians(lat_2)) * cos(radians(lat_1)) * sin(dlon/2) * sin(dlon/2)\n",
    "    c = 2 * math.atan2(math.sqrt(a), math.sqrt(1-a))\n",
    "    d = R * c\n",
    "    return d"
   ]
  },
  {
   "cell_type": "markdown",
   "metadata": {},
   "source": [
    "Add the Zurich HB location to the stop dataset"
   ]
  },
  {
   "cell_type": "code",
   "execution_count": 12,
   "metadata": {},
   "outputs": [
    {
     "data": {
      "application/vnd.jupyter.widget-view+json": {
       "model_id": "",
       "version_major": 2,
       "version_minor": 0
      },
      "text/plain": [
       "FloatProgress(value=0.0, bar_style='info', description='Progress:', layout=Layout(height='25px', width='50%'),…"
      ]
     },
     "metadata": {},
     "output_type": "display_data"
    },
    {
     "name": "stdout",
     "output_type": "stream",
     "text": [
      "+-----------+--------------+---------+--------+-------------+--------------+---------+--------+\n",
      "|    stop_id|     stop_name| stop_lat|stop_lon|location_type|parent_station|  lat_zur| lon_zur|\n",
      "+-----------+--------------+---------+--------+-------------+--------------+---------+--------+\n",
      "|    8711790|Bouilly Mairie|48.191723|3.996982|         null|              |47.378178|8.540192|\n",
      "|    8573112|        Gwüest|46.652576|8.516478|         null|              |47.378178|8.540192|\n",
      "|8014471:0:3|      Albbruck| 47.59236|8.131775|         null|      8014471P|47.378178|8.540192|\n",
      "+-----------+--------------+---------+--------+-------------+--------------+---------+--------+\n",
      "only showing top 3 rows"
     ]
    }
   ],
   "source": [
    "# Zürich HB (8503000), (lat, lon) = (47.378177, 8.540192).\n",
    "lat_zur = 47.378177\n",
    "lon_zur = 8.540192\n",
    "\n",
    "temp_stops = stops.withColumn('lat_zur', f.lit(lat_zur))\n",
    "temp_stops = temp_stops.withColumn('lon_zur', f.lit(lon_zur))\n",
    "\n",
    "temp_stops = temp_stops.withColumn('stop_lat', temp_stops.stop_lat.cast(\"float\")).withColumn('stop_lon', temp_stops.stop_lon.cast(\"float\")).withColumn('lat_zur', temp_stops.lat_zur.cast(\"float\")).withColumn('lon_zur', temp_stops.lon_zur.cast(\"float\"))\n",
    "\n",
    "temp_stops.show(3)"
   ]
  },
  {
   "cell_type": "markdown",
   "metadata": {},
   "source": [
    "Calculate all the stops distance to Zurich HB"
   ]
  },
  {
   "cell_type": "code",
   "execution_count": 14,
   "metadata": {},
   "outputs": [
    {
     "data": {
      "application/vnd.jupyter.widget-view+json": {
       "model_id": "",
       "version_major": 2,
       "version_minor": 0
      },
      "text/plain": [
       "FloatProgress(value=0.0, bar_style='info', description='Progress:', layout=Layout(height='25px', width='50%'),…"
      ]
     },
     "metadata": {},
     "output_type": "display_data"
    },
    {
     "name": "stdout",
     "output_type": "stream",
     "text": [
      "+-------+--------------------+---------+--------+-------------+--------------+-----------------+\n",
      "|stop_id|           stop_name| stop_lat|stop_lon|location_type|parent_station|dist_to_zurich_km|\n",
      "+-------+--------------------+---------+--------+-------------+--------------+-----------------+\n",
      "|8557033|Oberhasli, Industrie|47.459267|8.490014|         null|              |         9.785882|\n",
      "|8573711|   Zürich, Sädlenweg|47.367756| 8.48748|         null|              |          4.13962|\n",
      "|8591828|    Ebmatingen, Dorf| 47.35139|8.641003|         null|              |        8.1649275|\n",
      "+-------+--------------------+---------+--------+-------------+--------------+-----------------+\n",
      "only showing top 3 rows"
     ]
    }
   ],
   "source": [
    "from pyspark.sql.types import FloatType,IntegerType \n",
    "# User defined function\n",
    "udf_func = f.udf(calc_dist, FloatType())\n",
    "\n",
    "# Calculate the distance from each stop to Zurich HB\n",
    "stops_filter = temp_stops.withColumn('dist_to_zurich_km', \n",
    "                                   udf_func(temp_stops.lat_zur, temp_stops.stop_lat, temp_stops.lon_zur, temp_stops.stop_lon)).drop(*['lat_zur', 'lon_zur'])\n",
    "\n",
    "# Filter for stops within 15 km radius from Zurich HB\n",
    "stops_filter = stops_filter.filter(stops_filter.dist_to_zurich_km <= 15.0)\n",
    "\n",
    "stops_filter.show(3)"
   ]
  },
  {
   "cell_type": "markdown",
   "metadata": {},
   "source": [
    "Save the daset to hdfs so that we can handle it locally. Please attentation, we have already written this file. If you want to write again,please change the user name."
   ]
  },
  {
   "cell_type": "code",
   "execution_count": 155,
   "metadata": {},
   "outputs": [
    {
     "data": {
      "application/vnd.jupyter.widget-view+json": {
       "model_id": "",
       "version_major": 2,
       "version_minor": 0
      },
      "text/plain": [
       "FloatProgress(value=0.0, bar_style='info', description='Progress:', layout=Layout(height='25px', width='50%'),…"
      ]
     },
     "metadata": {},
     "output_type": "display_data"
    }
   ],
   "source": [
    "#stops_filter.write.parquet('/user/{0}/stops_node.parquet'.format(\"kfu\")) "
   ]
  },
  {
   "cell_type": "markdown",
   "metadata": {},
   "source": [
    "# Filter the Route operating on weekdays"
   ]
  },
  {
   "cell_type": "code",
   "execution_count": 17,
   "metadata": {},
   "outputs": [
    {
     "data": {
      "application/vnd.jupyter.widget-view+json": {
       "model_id": "",
       "version_major": 2,
       "version_minor": 0
      },
      "text/plain": [
       "FloatProgress(value=0.0, bar_style='info', description='Progress:', layout=Layout(height='25px', width='50%'),…"
      ]
     },
     "metadata": {},
     "output_type": "display_data"
    }
   ],
   "source": [
    "valid_service_id = calendar.filter((calendar.monday == 1) & (calendar.tuesday == 1)& (calendar.wednesday == 1) & (calendar.thursday == 1) & (calendar.friday == 1))\n",
    "\n",
    "trip_filter = trips.join(valid_service_id, 'service_id', 'inner').select(['service_id', 'route_id', 'trip_id',\"trip_short_name\", \"direction_id\"])\n",
    "trip_filter = trip_filter.join(routes, 'route_id', 'inner').select(['service_id', 'route_id', 'trip_id', \"direction_id\",'route_desc','route_type','route_short_name'])\n"
   ]
  },
  {
   "cell_type": "markdown",
   "metadata": {},
   "source": [
    "## Use stop_times.csv to filter the stops operated from Monday to Friday"
   ]
  },
  {
   "cell_type": "code",
   "execution_count": 18,
   "metadata": {},
   "outputs": [
    {
     "data": {
      "application/vnd.jupyter.widget-view+json": {
       "model_id": "",
       "version_major": 2,
       "version_minor": 0
      },
      "text/plain": [
       "FloatProgress(value=0.0, bar_style='info', description='Progress:', layout=Layout(height='25px', width='50%'),…"
      ]
     },
     "metadata": {},
     "output_type": "display_data"
    }
   ],
   "source": [
    "stop_times_filter = stop_times.join(trip_filter, 'trip_id', 'inner').drop(*['pickup_type', 'drop_off_type'])\n"
   ]
  },
  {
   "cell_type": "markdown",
   "metadata": {},
   "source": [
    "## Filter the stops within 15km of Zurich stations"
   ]
  },
  {
   "cell_type": "code",
   "execution_count": 19,
   "metadata": {},
   "outputs": [
    {
     "data": {
      "application/vnd.jupyter.widget-view+json": {
       "model_id": "",
       "version_major": 2,
       "version_minor": 0
      },
      "text/plain": [
       "FloatProgress(value=0.0, bar_style='info', description='Progress:', layout=Layout(height='25px', width='50%'),…"
      ]
     },
     "metadata": {},
     "output_type": "display_data"
    }
   ],
   "source": [
    "stop_final = stop_times_filter.join(stops_filter, 'stop_id', 'inner').drop(*['stop_lat', 'stop_lon','location_type', 'dist_to_zurich_km','route_type'])\n"
   ]
  },
  {
   "cell_type": "markdown",
   "metadata": {},
   "source": [
    "## Filter trips running on the working hours of a day (9am to 5pm)"
   ]
  },
  {
   "cell_type": "code",
   "execution_count": 20,
   "metadata": {},
   "outputs": [
    {
     "data": {
      "application/vnd.jupyter.widget-view+json": {
       "model_id": "",
       "version_major": 2,
       "version_minor": 0
      },
      "text/plain": [
       "FloatProgress(value=0.0, bar_style='info', description='Progress:', layout=Layout(height='25px', width='50%'),…"
      ]
     },
     "metadata": {},
     "output_type": "display_data"
    }
   ],
   "source": [
    "# Creating 2 new columns where the hour is extracted from the arrival and departure timestamps\n",
    "timetable = stop_final.withColumn('arrive', stop_final.arrival_time.substr(1, 2).cast(IntegerType()))\n",
    "timetable = timetable.withColumn('departure', stop_final.departure_time.substr(1, 2).cast(IntegerType()))\n",
    "\n",
    "# Filter such that we only keep times between 9-17\n",
    "timetable = timetable.where((timetable.arrive >= 9) \n",
    "                                        & (timetable.arrive <= 17) \n",
    "                                        & (timetable.departure <= 17) \n",
    "                                        & (timetable.departure >= 9))\n",
    "\n",
    "# Drop unecessary columns\n",
    "timetable = timetable.drop(*['arrive', 'departure','parent_station'])\n",
    "\n",
    "timetable_temp = timetable.withColumn('arrival_timestamp', f.unix_timestamp(timetable.arrival_time, 'HH:mm:ss'))\n",
    "timetable_temp = timetable_temp.withColumn('departure_timestamp', f.unix_timestamp(timetable.departure_time, 'HH:mm:ss'))\n",
    "timetable_temp.show(3)"
   ]
  },
  {
   "cell_type": "markdown",
   "metadata": {},
   "source": [
    "Save the daset to hdfs so that we can handle it locally. Please attentation, we have already written this file. If you want to write again,please change the user name."
   ]
  },
  {
   "cell_type": "code",
   "execution_count": 165,
   "metadata": {},
   "outputs": [
    {
     "data": {
      "application/vnd.jupyter.widget-view+json": {
       "model_id": "",
       "version_major": 2,
       "version_minor": 0
      },
      "text/plain": [
       "FloatProgress(value=0.0, bar_style='info', description='Progress:', layout=Layout(height='25px', width='50%'),…"
      ]
     },
     "metadata": {},
     "output_type": "display_data"
    }
   ],
   "source": [
    "#timetable_temp.write.parquet('/user/{0}/timetable.parquet'.format(\"kfu\")) # the file will be owned by ebouille"
   ]
  },
  {
   "cell_type": "markdown",
   "metadata": {},
   "source": [
    "### Construct the dataframe of edges"
   ]
  },
  {
   "cell_type": "code",
   "execution_count": 21,
   "metadata": {},
   "outputs": [
    {
     "data": {
      "application/vnd.jupyter.widget-view+json": {
       "model_id": "",
       "version_major": 2,
       "version_minor": 0
      },
      "text/plain": [
       "FloatProgress(value=0.0, bar_style='info', description='Progress:', layout=Layout(height='25px', width='50%'),…"
      ]
     },
     "metadata": {},
     "output_type": "display_data"
    }
   ],
   "source": [
    "# Group the data\n",
    "timetable_for_edges = timetable.groupBy(['trip_id']).agg(f.collect_list('stop_id').alias('stop_ids'),                                                    \n",
    "                                                    f.collect_list('arrival_time').alias('arrival_time'),\n",
    "                                                    f.collect_list('departure_time').alias('departure_time')            \n",
    "                                                    \n",
    "                                                          )\n"
   ]
  },
  {
   "cell_type": "code",
   "execution_count": 22,
   "metadata": {},
   "outputs": [
    {
     "data": {
      "application/vnd.jupyter.widget-view+json": {
       "model_id": "",
       "version_major": 2,
       "version_minor": 0
      },
      "text/plain": [
       "FloatProgress(value=0.0, bar_style='info', description='Progress:', layout=Layout(height='25px', width='50%'),…"
      ]
     },
     "metadata": {},
     "output_type": "display_data"
    },
    {
     "name": "stdout",
     "output_type": "stream",
     "text": [
      "/hdata/sdf/hadoop/yarn/local/usercache/ebouille/appcache/application_1618324153128_6847/container_e01_1618324153128_6847_01_000001/pyspark.zip/pyspark/sql/session.py:346: UserWarning: inferring schema from dict is deprecated,please use pyspark.sql.Row instead"
     ]
    }
   ],
   "source": [
    "row_list = []\n",
    "for iteration in timetable_for_edges.collect():\n",
    "    trip_id = iteration['trip_id']\n",
    "    stop_ids = iteration['stop_ids']\n",
    "    arr_time = iteration['arrival_time']\n",
    "    dept_time = iteration['departure_time']\n",
    "    for i in range(len(stop_ids)-1):\n",
    "        for j in range(i+1,len(stop_ids)):\n",
    "            dict1 = dict(src= stop_ids[i], dst =stop_ids[j],trip_id = trip_id ,dept_from_src = dept_time[i], arr_to_dst = arr_time[j])\n",
    "            row_list.append(dict1) \n",
    "df_edge = spark.createDataFrame(row_list)\n",
    "\n"
   ]
  },
  {
   "cell_type": "markdown",
   "metadata": {},
   "source": [
    "add the timestamp and then calculate the edge time "
   ]
  },
  {
   "cell_type": "code",
   "execution_count": 23,
   "metadata": {},
   "outputs": [
    {
     "data": {
      "application/vnd.jupyter.widget-view+json": {
       "model_id": "",
       "version_major": 2,
       "version_minor": 0
      },
      "text/plain": [
       "FloatProgress(value=0.0, bar_style='info', description='Progress:', layout=Layout(height='25px', width='50%'),…"
      ]
     },
     "metadata": {},
     "output_type": "display_data"
    }
   ],
   "source": [
    "df_edge_new = df_edge.withColumn('dept', f.unix_timestamp(df_edge.dept_from_src, 'HH:mm:ss'))\n",
    "df_edge_new = df_edge_new.withColumn('arr', f.unix_timestamp(df_edge_new.arr_to_dst, 'HH:mm:ss'))\n",
    "df_edge_new = df_edge_new.withColumn(\"edge_time\", (df_edge_new.arr- df_edge_new.dept)/60)"
   ]
  },
  {
   "cell_type": "markdown",
   "metadata": {},
   "source": [
    "add the line number into the dataframe"
   ]
  },
  {
   "cell_type": "code",
   "execution_count": 25,
   "metadata": {},
   "outputs": [
    {
     "data": {
      "application/vnd.jupyter.widget-view+json": {
       "model_id": "",
       "version_major": 2,
       "version_minor": 0
      },
      "text/plain": [
       "FloatProgress(value=0.0, bar_style='info', description='Progress:', layout=Layout(height='25px', width='50%'),…"
      ]
     },
     "metadata": {},
     "output_type": "display_data"
    }
   ],
   "source": [
    "temp = timetable.groupby(\"trip_id\").agg(f.avg(timetable.route_short_name).cast(\"int\").alias(\"line_number\"))\n",
    "df_edge_new = df_edge_new.join(temp,\"trip_id\")\n"
   ]
  },
  {
   "cell_type": "code",
   "execution_count": 26,
   "metadata": {},
   "outputs": [
    {
     "data": {
      "application/vnd.jupyter.widget-view+json": {
       "model_id": "",
       "version_major": 2,
       "version_minor": 0
      },
      "text/plain": [
       "FloatProgress(value=0.0, bar_style='info', description='Progress:', layout=Layout(height='25px', width='50%'),…"
      ]
     },
     "metadata": {},
     "output_type": "display_data"
    },
    {
     "name": "stdout",
     "output_type": "stream",
     "text": [
      "+-------+-----------+-----------+---------+-------------+----------+--------------------+\n",
      "|    src|        dst|line_number|edge_time|dept_from_src|arr_to_dst|             trip_id|\n",
      "+-------+-----------+-----------+---------+-------------+----------+--------------------+\n",
      "|8503064|8503065:0:1|         18|      4.0|     10:41:00|  10:45:00|1.TA.26-18-j19-1.1.H|\n",
      "|8503064|    8503074|         18|      5.0|     10:41:00|  10:46:00|1.TA.26-18-j19-1.1.H|\n",
      "|8503064|    8503068|         18|      6.0|     10:41:00|  10:47:00|1.TA.26-18-j19-1.1.H|\n",
      "+-------+-----------+-----------+---------+-------------+----------+--------------------+\n",
      "only showing top 3 rows"
     ]
    }
   ],
   "source": [
    "df_edge_to_graph = df_edge_new.select(\"src\",\"dst\",\"line_number\",\"edge_time\",\"dept_from_src\",\"arr_to_dst\",\"trip_id\")\n",
    "df_edge_to_graph.show(3)"
   ]
  },
  {
   "cell_type": "markdown",
   "metadata": {},
   "source": [
    "Save the daset to hdfs so that we can handle it locally. Please attentation, we have already written this file. If you want to write again,please change the user name."
   ]
  },
  {
   "cell_type": "code",
   "execution_count": 171,
   "metadata": {},
   "outputs": [
    {
     "data": {
      "application/vnd.jupyter.widget-view+json": {
       "model_id": "",
       "version_major": 2,
       "version_minor": 0
      },
      "text/plain": [
       "FloatProgress(value=0.0, bar_style='info', description='Progress:', layout=Layout(height='25px', width='50%'),…"
      ]
     },
     "metadata": {},
     "output_type": "display_data"
    }
   ],
   "source": [
    "#df_edge_to_graph.write.parquet('/user/{0}/stops_edge.parquet'.format(\"kfu\")) # the file will be owned by ebouille"
   ]
  },
  {
   "cell_type": "markdown",
   "metadata": {},
   "source": [
    "\n",
    "## Find two stops within 500 meters and construct the walking edges\n"
   ]
  },
  {
   "cell_type": "code",
   "execution_count": 27,
   "metadata": {},
   "outputs": [
    {
     "data": {
      "application/vnd.jupyter.widget-view+json": {
       "model_id": "",
       "version_major": 2,
       "version_minor": 0
      },
      "text/plain": [
       "FloatProgress(value=0.0, bar_style='info', description='Progress:', layout=Layout(height='25px', width='50%'),…"
      ]
     },
     "metadata": {},
     "output_type": "display_data"
    }
   ],
   "source": [
    "temp_A = stops_filter.select(f.col(\"stop_id\").alias(\"stop_id_A\"),\n",
    "                    f.col(\"stop_name\").alias(\"stop_name_A\"),\n",
    "                    f.col(\"stop_lat\").alias(\"stop_lat_A\"),\n",
    "                    f.col(\"stop_lon\").alias(\"stop_lon_A\")\n",
    "                    )\n",
    "temp_B = stops_filter.select(f.col(\"stop_id\").alias(\"stop_id_B\"),\n",
    "                    f.col(\"stop_name\").alias(\"stop_name_B\"),\n",
    "                    f.col(\"stop_lat\").alias(\"stop_lat_B\"),\n",
    "                    f.col(\"stop_lon\").alias(\"stop_lon_B\")\n",
    "                    )\n",
    "crossjoin_stops =  temp_A.crossJoin(temp_B)\n",
    "\n",
    "\n"
   ]
  },
  {
   "cell_type": "code",
   "execution_count": 28,
   "metadata": {},
   "outputs": [
    {
     "data": {
      "application/vnd.jupyter.widget-view+json": {
       "model_id": "",
       "version_major": 2,
       "version_minor": 0
      },
      "text/plain": [
       "FloatProgress(value=0.0, bar_style='info', description='Progress:', layout=Layout(height='25px', width='50%'),…"
      ]
     },
     "metadata": {},
     "output_type": "display_data"
    },
    {
     "name": "stdout",
     "output_type": "stream",
     "text": [
      "+---------+--------------------+----------+----------+---------+--------------------+----------+----------+-----------+\n",
      "|stop_id_A|         stop_name_A|stop_lat_A|stop_lon_A|stop_id_B|         stop_name_B|stop_lat_B|stop_lon_B|distance_km|\n",
      "+---------+--------------------+----------+----------+---------+--------------------+----------+----------+-----------+\n",
      "|  8573711|   Zürich, Sädlenweg| 47.367756|   8.48748|  8591214|   Zürich, In der Ey|  47.36924|  8.491631| 0.35383454|\n",
      "|  8573711|   Zürich, Sädlenweg| 47.367756|   8.48748|  8591163|Zürich, Goldackerweg|  47.37189|  8.487929| 0.46155486|\n",
      "|  8590610|Fällanden, Schütz...| 47.368626|  8.632478|  8590612|      Fällanden, Zil| 47.372246|  8.636214|  0.4916792|\n",
      "+---------+--------------------+----------+----------+---------+--------------------+----------+----------+-----------+\n",
      "only showing top 3 rows"
     ]
    }
   ],
   "source": [
    "crossjoin_stops = crossjoin_stops.withColumn('distance_km', udf_func(crossjoin_stops.stop_lat_A, crossjoin_stops.stop_lat_B, crossjoin_stops.stop_lon_A, crossjoin_stops.stop_lon_B))\n",
    "crossjoin_stops = crossjoin_stops.filter((crossjoin_stops.distance_km <= 0.5) & (crossjoin_stops.distance_km > 0))\n",
    "crossjoin_stops.show(3)"
   ]
  },
  {
   "cell_type": "code",
   "execution_count": 29,
   "metadata": {},
   "outputs": [
    {
     "data": {
      "application/vnd.jupyter.widget-view+json": {
       "model_id": "",
       "version_major": 2,
       "version_minor": 0
      },
      "text/plain": [
       "FloatProgress(value=0.0, bar_style='info', description='Progress:', layout=Layout(height='25px', width='50%'),…"
      ]
     },
     "metadata": {},
     "output_type": "display_data"
    }
   ],
   "source": [
    "def cal_walking_time(distance):\n",
    "    return distance/0.05\n",
    "udf_cal_walking_time = f.udf(cal_walking_time,FloatType())\n",
    "walking_edge = crossjoin_stops.select(f.col(\"stop_id_A\").alias(\"src\"),f.col(\"stop_id_B\").alias(\"dst\"),\"distance_km\")\n",
    "walking_edge = walking_edge.withColumn(\"edge_time\",udf_cal_walking_time(walking_edge.distance_km) ).drop(*[\"distance_km\"]) \n"
   ]
  },
  {
   "cell_type": "markdown",
   "metadata": {},
   "source": [
    "Add the corresponding attributes to the walking edges"
   ]
  },
  {
   "cell_type": "code",
   "execution_count": 216,
   "metadata": {},
   "outputs": [
    {
     "data": {
      "application/vnd.jupyter.widget-view+json": {
       "model_id": "",
       "version_major": 2,
       "version_minor": 0
      },
      "text/plain": [
       "FloatProgress(value=0.0, bar_style='info', description='Progress:', layout=Layout(height='25px', width='50%'),…"
      ]
     },
     "metadata": {},
     "output_type": "display_data"
    }
   ],
   "source": [
    "walking_edge = walking_edge.withColumn('line_number', f.lit(\"walking\")) \\\n",
    "                            .withColumn('dept_from_src', f.lit(0)) \\\n",
    "                            .withColumn('arr_to_dst', walking_edge.edge_time) \\\n",
    "                            .withColumn('trip_id', f.lit(\"walking\"))\n",
    "\n"
   ]
  },
  {
   "cell_type": "code",
   "execution_count": 30,
   "metadata": {},
   "outputs": [
    {
     "name": "stderr",
     "output_type": "stream",
     "text": [
      "An error was encountered:\n",
      "Invalid status code '404' from http://iccluster040.iccluster.epfl.ch:8998/sessions/7142 with error payload: \"Session '7142' not found.\"\n"
     ]
    }
   ],
   "source": [
    "Please attentation, we have already written this file. If you want to write again,please change the user name."
   ]
  },
  {
   "cell_type": "code",
   "execution_count": 217,
   "metadata": {},
   "outputs": [
    {
     "data": {
      "application/vnd.jupyter.widget-view+json": {
       "model_id": "",
       "version_major": 2,
       "version_minor": 0
      },
      "text/plain": [
       "FloatProgress(value=0.0, bar_style='info', description='Progress:', layout=Layout(height='25px', width='50%'),…"
      ]
     },
     "metadata": {},
     "output_type": "display_data"
    }
   ],
   "source": [
    "#walking_edge.write.parquet('/user/{0}/walking_edge_with_attr.parquet'.format(\"kfu\")) # the file will be owned by ebouille"
   ]
  }
 ],
 "metadata": {
  "kernelspec": {
   "display_name": "PySpark",
   "language": "python",
   "name": "pysparkkernel"
  },
  "language_info": {
   "codemirror_mode": {
    "name": "python",
    "version": 3
   },
   "file_extension": ".py",
   "mimetype": "text/x-python",
   "name": "pyspark",
   "pygments_lexer": "python3"
  }
 },
 "nbformat": 4,
 "nbformat_minor": 4
}
